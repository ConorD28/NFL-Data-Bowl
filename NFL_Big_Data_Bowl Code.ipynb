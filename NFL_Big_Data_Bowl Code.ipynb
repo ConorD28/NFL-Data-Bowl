{
  "cells": [
    {
      "cell_type": "markdown",
      "metadata": {
        "id": "view-in-github",
        "colab_type": "text"
      },
      "source": [
        "<a href=\"https://colab.research.google.com/github/ConorD28/NFL-Data-Bowl/blob/main/NFL_Big_Data_Bowl%20Code.ipynb\" target=\"_parent\"><img src=\"https://colab.research.google.com/assets/colab-badge.svg\" alt=\"Open In Colab\"/></a>"
      ]
    },
    {
      "cell_type": "markdown",
      "source": [
        "# **Load in Data**"
      ],
      "metadata": {
        "id": "uWYA16qgrteg"
      }
    },
    {
      "cell_type": "code",
      "execution_count": null,
      "metadata": {
        "id": "GD8Cwq-tHuYk",
        "collapsed": true
      },
      "outputs": [],
      "source": [
        "!pip install scikit-learn==1.4.2 #need this version for XG Boost tuning to work\n",
        "import pandas as pd\n",
        "import seaborn as sns\n",
        "import numpy as np\n",
        "import matplotlib.pyplot as plt\n",
        "import math\n",
        "from sklearn.decomposition import PCA\n",
        "%matplotlib inline\n",
        "!pip install dask distributed"
      ]
    },
    {
      "cell_type": "code",
      "execution_count": null,
      "metadata": {
        "colab": {
          "base_uri": "https://localhost:8080/",
          "height": 1000
        },
        "collapsed": true,
        "id": "AB0eeBuWWEQ1",
        "outputId": "69a6cfb5-aa51-4235-b2f9-51cc2f596b4c"
      },
      "outputs": [
        {
          "output_type": "execute_result",
          "data": {
            "text/plain": [
              "                                  NA Percents\n",
              "penaltyYards                             97.6\n",
              "timeToSack                               96.2\n",
              "pff_runConceptSecondary                  82.5\n",
              "qbSneak                                  57.9\n",
              "rushLocationType                         57.9\n",
              "targetY                                  48.1\n",
              "targetX                                  48.1\n",
              "timeToThrow                              46.0\n",
              "passLength                               45.9\n",
              "timeInTackleBox                          44.7\n",
              "pff_runConceptPrimary                    43.7\n",
              "passLocationType                         42.2\n",
              "qbSpike                                  42.1\n",
              "passTippedAtLine                         42.1\n",
              "passResult                               39.6\n",
              "unblockedPressure                        39.5\n",
              "dropbackDistance                         37.0\n",
              "dropbackType                             36.0\n",
              "yardlineSide                              1.4\n",
              "pff_passCoverage                          1.2\n",
              "pff_manZone                               1.2\n",
              "receiverAlignment                         1.2\n",
              "offenseFormation                          1.2\n",
              "yardsGained                               0.0\n",
              "isDropback                                0.0\n",
              "pff_runPassOption                         0.0\n",
              "qbKneel                                   0.0\n",
              "expectedPointsAdded                       0.0\n",
              "visitorTeamWinProbilityAdded              0.0\n",
              "prePenaltyYardsGained                     0.0\n",
              "homeTeamWinProbabilityAdded               0.0\n",
              "gameId                                    0.0\n",
              "playId                                    0.0\n",
              "playClockAtSnap                           0.0\n",
              "playDescription                           0.0\n",
              "quarter                                   0.0\n",
              "down                                      0.0\n",
              "yardsToGo                                 0.0\n",
              "possessionTeam                            0.0\n",
              "defensiveTeam                             0.0\n",
              "yardlineNumber                            0.0\n",
              "gameClock                                 0.0\n",
              "preSnapHomeScore                          0.0\n",
              "preSnapVisitorScore                       0.0\n",
              "playNullifiedByPenalty                    0.0\n",
              "absoluteYardlineNumber                    0.0\n",
              "preSnapHomeTeamWinProbability             0.0\n",
              "preSnapVisitorTeamWinProbability          0.0\n",
              "expectedPoints                            0.0\n",
              "playAction                                0.0"
            ],
            "text/html": [
              "\n",
              "  <div id=\"df-4a8d61e9-90d2-4845-9e04-814f8690ff7e\" class=\"colab-df-container\">\n",
              "    <div>\n",
              "<style scoped>\n",
              "    .dataframe tbody tr th:only-of-type {\n",
              "        vertical-align: middle;\n",
              "    }\n",
              "\n",
              "    .dataframe tbody tr th {\n",
              "        vertical-align: top;\n",
              "    }\n",
              "\n",
              "    .dataframe thead th {\n",
              "        text-align: right;\n",
              "    }\n",
              "</style>\n",
              "<table border=\"1\" class=\"dataframe\">\n",
              "  <thead>\n",
              "    <tr style=\"text-align: right;\">\n",
              "      <th></th>\n",
              "      <th>NA Percents</th>\n",
              "    </tr>\n",
              "  </thead>\n",
              "  <tbody>\n",
              "    <tr>\n",
              "      <th>penaltyYards</th>\n",
              "      <td>97.6</td>\n",
              "    </tr>\n",
              "    <tr>\n",
              "      <th>timeToSack</th>\n",
              "      <td>96.2</td>\n",
              "    </tr>\n",
              "    <tr>\n",
              "      <th>pff_runConceptSecondary</th>\n",
              "      <td>82.5</td>\n",
              "    </tr>\n",
              "    <tr>\n",
              "      <th>qbSneak</th>\n",
              "      <td>57.9</td>\n",
              "    </tr>\n",
              "    <tr>\n",
              "      <th>rushLocationType</th>\n",
              "      <td>57.9</td>\n",
              "    </tr>\n",
              "    <tr>\n",
              "      <th>targetY</th>\n",
              "      <td>48.1</td>\n",
              "    </tr>\n",
              "    <tr>\n",
              "      <th>targetX</th>\n",
              "      <td>48.1</td>\n",
              "    </tr>\n",
              "    <tr>\n",
              "      <th>timeToThrow</th>\n",
              "      <td>46.0</td>\n",
              "    </tr>\n",
              "    <tr>\n",
              "      <th>passLength</th>\n",
              "      <td>45.9</td>\n",
              "    </tr>\n",
              "    <tr>\n",
              "      <th>timeInTackleBox</th>\n",
              "      <td>44.7</td>\n",
              "    </tr>\n",
              "    <tr>\n",
              "      <th>pff_runConceptPrimary</th>\n",
              "      <td>43.7</td>\n",
              "    </tr>\n",
              "    <tr>\n",
              "      <th>passLocationType</th>\n",
              "      <td>42.2</td>\n",
              "    </tr>\n",
              "    <tr>\n",
              "      <th>qbSpike</th>\n",
              "      <td>42.1</td>\n",
              "    </tr>\n",
              "    <tr>\n",
              "      <th>passTippedAtLine</th>\n",
              "      <td>42.1</td>\n",
              "    </tr>\n",
              "    <tr>\n",
              "      <th>passResult</th>\n",
              "      <td>39.6</td>\n",
              "    </tr>\n",
              "    <tr>\n",
              "      <th>unblockedPressure</th>\n",
              "      <td>39.5</td>\n",
              "    </tr>\n",
              "    <tr>\n",
              "      <th>dropbackDistance</th>\n",
              "      <td>37.0</td>\n",
              "    </tr>\n",
              "    <tr>\n",
              "      <th>dropbackType</th>\n",
              "      <td>36.0</td>\n",
              "    </tr>\n",
              "    <tr>\n",
              "      <th>yardlineSide</th>\n",
              "      <td>1.4</td>\n",
              "    </tr>\n",
              "    <tr>\n",
              "      <th>pff_passCoverage</th>\n",
              "      <td>1.2</td>\n",
              "    </tr>\n",
              "    <tr>\n",
              "      <th>pff_manZone</th>\n",
              "      <td>1.2</td>\n",
              "    </tr>\n",
              "    <tr>\n",
              "      <th>receiverAlignment</th>\n",
              "      <td>1.2</td>\n",
              "    </tr>\n",
              "    <tr>\n",
              "      <th>offenseFormation</th>\n",
              "      <td>1.2</td>\n",
              "    </tr>\n",
              "    <tr>\n",
              "      <th>yardsGained</th>\n",
              "      <td>0.0</td>\n",
              "    </tr>\n",
              "    <tr>\n",
              "      <th>isDropback</th>\n",
              "      <td>0.0</td>\n",
              "    </tr>\n",
              "    <tr>\n",
              "      <th>pff_runPassOption</th>\n",
              "      <td>0.0</td>\n",
              "    </tr>\n",
              "    <tr>\n",
              "      <th>qbKneel</th>\n",
              "      <td>0.0</td>\n",
              "    </tr>\n",
              "    <tr>\n",
              "      <th>expectedPointsAdded</th>\n",
              "      <td>0.0</td>\n",
              "    </tr>\n",
              "    <tr>\n",
              "      <th>visitorTeamWinProbilityAdded</th>\n",
              "      <td>0.0</td>\n",
              "    </tr>\n",
              "    <tr>\n",
              "      <th>prePenaltyYardsGained</th>\n",
              "      <td>0.0</td>\n",
              "    </tr>\n",
              "    <tr>\n",
              "      <th>homeTeamWinProbabilityAdded</th>\n",
              "      <td>0.0</td>\n",
              "    </tr>\n",
              "    <tr>\n",
              "      <th>gameId</th>\n",
              "      <td>0.0</td>\n",
              "    </tr>\n",
              "    <tr>\n",
              "      <th>playId</th>\n",
              "      <td>0.0</td>\n",
              "    </tr>\n",
              "    <tr>\n",
              "      <th>playClockAtSnap</th>\n",
              "      <td>0.0</td>\n",
              "    </tr>\n",
              "    <tr>\n",
              "      <th>playDescription</th>\n",
              "      <td>0.0</td>\n",
              "    </tr>\n",
              "    <tr>\n",
              "      <th>quarter</th>\n",
              "      <td>0.0</td>\n",
              "    </tr>\n",
              "    <tr>\n",
              "      <th>down</th>\n",
              "      <td>0.0</td>\n",
              "    </tr>\n",
              "    <tr>\n",
              "      <th>yardsToGo</th>\n",
              "      <td>0.0</td>\n",
              "    </tr>\n",
              "    <tr>\n",
              "      <th>possessionTeam</th>\n",
              "      <td>0.0</td>\n",
              "    </tr>\n",
              "    <tr>\n",
              "      <th>defensiveTeam</th>\n",
              "      <td>0.0</td>\n",
              "    </tr>\n",
              "    <tr>\n",
              "      <th>yardlineNumber</th>\n",
              "      <td>0.0</td>\n",
              "    </tr>\n",
              "    <tr>\n",
              "      <th>gameClock</th>\n",
              "      <td>0.0</td>\n",
              "    </tr>\n",
              "    <tr>\n",
              "      <th>preSnapHomeScore</th>\n",
              "      <td>0.0</td>\n",
              "    </tr>\n",
              "    <tr>\n",
              "      <th>preSnapVisitorScore</th>\n",
              "      <td>0.0</td>\n",
              "    </tr>\n",
              "    <tr>\n",
              "      <th>playNullifiedByPenalty</th>\n",
              "      <td>0.0</td>\n",
              "    </tr>\n",
              "    <tr>\n",
              "      <th>absoluteYardlineNumber</th>\n",
              "      <td>0.0</td>\n",
              "    </tr>\n",
              "    <tr>\n",
              "      <th>preSnapHomeTeamWinProbability</th>\n",
              "      <td>0.0</td>\n",
              "    </tr>\n",
              "    <tr>\n",
              "      <th>preSnapVisitorTeamWinProbability</th>\n",
              "      <td>0.0</td>\n",
              "    </tr>\n",
              "    <tr>\n",
              "      <th>expectedPoints</th>\n",
              "      <td>0.0</td>\n",
              "    </tr>\n",
              "    <tr>\n",
              "      <th>playAction</th>\n",
              "      <td>0.0</td>\n",
              "    </tr>\n",
              "  </tbody>\n",
              "</table>\n",
              "</div>\n",
              "    <div class=\"colab-df-buttons\">\n",
              "\n",
              "  <div class=\"colab-df-container\">\n",
              "    <button class=\"colab-df-convert\" onclick=\"convertToInteractive('df-4a8d61e9-90d2-4845-9e04-814f8690ff7e')\"\n",
              "            title=\"Convert this dataframe to an interactive table.\"\n",
              "            style=\"display:none;\">\n",
              "\n",
              "  <svg xmlns=\"http://www.w3.org/2000/svg\" height=\"24px\" viewBox=\"0 -960 960 960\">\n",
              "    <path d=\"M120-120v-720h720v720H120Zm60-500h600v-160H180v160Zm220 220h160v-160H400v160Zm0 220h160v-160H400v160ZM180-400h160v-160H180v160Zm440 0h160v-160H620v160ZM180-180h160v-160H180v160Zm440 0h160v-160H620v160Z\"/>\n",
              "  </svg>\n",
              "    </button>\n",
              "\n",
              "  <style>\n",
              "    .colab-df-container {\n",
              "      display:flex;\n",
              "      gap: 12px;\n",
              "    }\n",
              "\n",
              "    .colab-df-convert {\n",
              "      background-color: #E8F0FE;\n",
              "      border: none;\n",
              "      border-radius: 50%;\n",
              "      cursor: pointer;\n",
              "      display: none;\n",
              "      fill: #1967D2;\n",
              "      height: 32px;\n",
              "      padding: 0 0 0 0;\n",
              "      width: 32px;\n",
              "    }\n",
              "\n",
              "    .colab-df-convert:hover {\n",
              "      background-color: #E2EBFA;\n",
              "      box-shadow: 0px 1px 2px rgba(60, 64, 67, 0.3), 0px 1px 3px 1px rgba(60, 64, 67, 0.15);\n",
              "      fill: #174EA6;\n",
              "    }\n",
              "\n",
              "    .colab-df-buttons div {\n",
              "      margin-bottom: 4px;\n",
              "    }\n",
              "\n",
              "    [theme=dark] .colab-df-convert {\n",
              "      background-color: #3B4455;\n",
              "      fill: #D2E3FC;\n",
              "    }\n",
              "\n",
              "    [theme=dark] .colab-df-convert:hover {\n",
              "      background-color: #434B5C;\n",
              "      box-shadow: 0px 1px 3px 1px rgba(0, 0, 0, 0.15);\n",
              "      filter: drop-shadow(0px 1px 2px rgba(0, 0, 0, 0.3));\n",
              "      fill: #FFFFFF;\n",
              "    }\n",
              "  </style>\n",
              "\n",
              "    <script>\n",
              "      const buttonEl =\n",
              "        document.querySelector('#df-4a8d61e9-90d2-4845-9e04-814f8690ff7e button.colab-df-convert');\n",
              "      buttonEl.style.display =\n",
              "        google.colab.kernel.accessAllowed ? 'block' : 'none';\n",
              "\n",
              "      async function convertToInteractive(key) {\n",
              "        const element = document.querySelector('#df-4a8d61e9-90d2-4845-9e04-814f8690ff7e');\n",
              "        const dataTable =\n",
              "          await google.colab.kernel.invokeFunction('convertToInteractive',\n",
              "                                                    [key], {});\n",
              "        if (!dataTable) return;\n",
              "\n",
              "        const docLinkHtml = 'Like what you see? Visit the ' +\n",
              "          '<a target=\"_blank\" href=https://colab.research.google.com/notebooks/data_table.ipynb>data table notebook</a>'\n",
              "          + ' to learn more about interactive tables.';\n",
              "        element.innerHTML = '';\n",
              "        dataTable['output_type'] = 'display_data';\n",
              "        await google.colab.output.renderOutput(dataTable, element);\n",
              "        const docLink = document.createElement('div');\n",
              "        docLink.innerHTML = docLinkHtml;\n",
              "        element.appendChild(docLink);\n",
              "      }\n",
              "    </script>\n",
              "  </div>\n",
              "\n",
              "\n",
              "<div id=\"df-46319cc4-8db9-4460-83d0-213d3c4f997b\">\n",
              "  <button class=\"colab-df-quickchart\" onclick=\"quickchart('df-46319cc4-8db9-4460-83d0-213d3c4f997b')\"\n",
              "            title=\"Suggest charts\"\n",
              "            style=\"display:none;\">\n",
              "\n",
              "<svg xmlns=\"http://www.w3.org/2000/svg\" height=\"24px\"viewBox=\"0 0 24 24\"\n",
              "     width=\"24px\">\n",
              "    <g>\n",
              "        <path d=\"M19 3H5c-1.1 0-2 .9-2 2v14c0 1.1.9 2 2 2h14c1.1 0 2-.9 2-2V5c0-1.1-.9-2-2-2zM9 17H7v-7h2v7zm4 0h-2V7h2v10zm4 0h-2v-4h2v4z\"/>\n",
              "    </g>\n",
              "</svg>\n",
              "  </button>\n",
              "\n",
              "<style>\n",
              "  .colab-df-quickchart {\n",
              "      --bg-color: #E8F0FE;\n",
              "      --fill-color: #1967D2;\n",
              "      --hover-bg-color: #E2EBFA;\n",
              "      --hover-fill-color: #174EA6;\n",
              "      --disabled-fill-color: #AAA;\n",
              "      --disabled-bg-color: #DDD;\n",
              "  }\n",
              "\n",
              "  [theme=dark] .colab-df-quickchart {\n",
              "      --bg-color: #3B4455;\n",
              "      --fill-color: #D2E3FC;\n",
              "      --hover-bg-color: #434B5C;\n",
              "      --hover-fill-color: #FFFFFF;\n",
              "      --disabled-bg-color: #3B4455;\n",
              "      --disabled-fill-color: #666;\n",
              "  }\n",
              "\n",
              "  .colab-df-quickchart {\n",
              "    background-color: var(--bg-color);\n",
              "    border: none;\n",
              "    border-radius: 50%;\n",
              "    cursor: pointer;\n",
              "    display: none;\n",
              "    fill: var(--fill-color);\n",
              "    height: 32px;\n",
              "    padding: 0;\n",
              "    width: 32px;\n",
              "  }\n",
              "\n",
              "  .colab-df-quickchart:hover {\n",
              "    background-color: var(--hover-bg-color);\n",
              "    box-shadow: 0 1px 2px rgba(60, 64, 67, 0.3), 0 1px 3px 1px rgba(60, 64, 67, 0.15);\n",
              "    fill: var(--button-hover-fill-color);\n",
              "  }\n",
              "\n",
              "  .colab-df-quickchart-complete:disabled,\n",
              "  .colab-df-quickchart-complete:disabled:hover {\n",
              "    background-color: var(--disabled-bg-color);\n",
              "    fill: var(--disabled-fill-color);\n",
              "    box-shadow: none;\n",
              "  }\n",
              "\n",
              "  .colab-df-spinner {\n",
              "    border: 2px solid var(--fill-color);\n",
              "    border-color: transparent;\n",
              "    border-bottom-color: var(--fill-color);\n",
              "    animation:\n",
              "      spin 1s steps(1) infinite;\n",
              "  }\n",
              "\n",
              "  @keyframes spin {\n",
              "    0% {\n",
              "      border-color: transparent;\n",
              "      border-bottom-color: var(--fill-color);\n",
              "      border-left-color: var(--fill-color);\n",
              "    }\n",
              "    20% {\n",
              "      border-color: transparent;\n",
              "      border-left-color: var(--fill-color);\n",
              "      border-top-color: var(--fill-color);\n",
              "    }\n",
              "    30% {\n",
              "      border-color: transparent;\n",
              "      border-left-color: var(--fill-color);\n",
              "      border-top-color: var(--fill-color);\n",
              "      border-right-color: var(--fill-color);\n",
              "    }\n",
              "    40% {\n",
              "      border-color: transparent;\n",
              "      border-right-color: var(--fill-color);\n",
              "      border-top-color: var(--fill-color);\n",
              "    }\n",
              "    60% {\n",
              "      border-color: transparent;\n",
              "      border-right-color: var(--fill-color);\n",
              "    }\n",
              "    80% {\n",
              "      border-color: transparent;\n",
              "      border-right-color: var(--fill-color);\n",
              "      border-bottom-color: var(--fill-color);\n",
              "    }\n",
              "    90% {\n",
              "      border-color: transparent;\n",
              "      border-bottom-color: var(--fill-color);\n",
              "    }\n",
              "  }\n",
              "</style>\n",
              "\n",
              "  <script>\n",
              "    async function quickchart(key) {\n",
              "      const quickchartButtonEl =\n",
              "        document.querySelector('#' + key + ' button');\n",
              "      quickchartButtonEl.disabled = true;  // To prevent multiple clicks.\n",
              "      quickchartButtonEl.classList.add('colab-df-spinner');\n",
              "      try {\n",
              "        const charts = await google.colab.kernel.invokeFunction(\n",
              "            'suggestCharts', [key], {});\n",
              "      } catch (error) {\n",
              "        console.error('Error during call to suggestCharts:', error);\n",
              "      }\n",
              "      quickchartButtonEl.classList.remove('colab-df-spinner');\n",
              "      quickchartButtonEl.classList.add('colab-df-quickchart-complete');\n",
              "    }\n",
              "    (() => {\n",
              "      let quickchartButtonEl =\n",
              "        document.querySelector('#df-46319cc4-8db9-4460-83d0-213d3c4f997b button');\n",
              "      quickchartButtonEl.style.display =\n",
              "        google.colab.kernel.accessAllowed ? 'block' : 'none';\n",
              "    })();\n",
              "  </script>\n",
              "</div>\n",
              "\n",
              "    </div>\n",
              "  </div>\n"
            ],
            "application/vnd.google.colaboratory.intrinsic+json": {
              "type": "dataframe",
              "summary": "{\n  \"name\": \"NA_percents2\",\n  \"rows\": 50,\n  \"fields\": [\n    {\n      \"column\": \"NA Percents\",\n      \"properties\": {\n        \"dtype\": \"number\",\n        \"std\": 27.84807625349384,\n        \"min\": 0.0,\n        \"max\": 97.6,\n        \"num_unique_values\": 18,\n        \"samples\": [\n          97.6,\n          96.2,\n          43.7\n        ],\n        \"semantic_type\": \"\",\n        \"description\": \"\"\n      }\n    }\n  ]\n}"
            }
          },
          "metadata": {},
          "execution_count": 2
        }
      ],
      "source": [
        "plays = pd.read_csv(\"plays.csv\")\n",
        "NA_percents = round(plays.isnull().sum()/len(plays) * 100, 1)\n",
        "NA_percents2 = pd.DataFrame(data = NA_percents.values, index = NA_percents.index, columns = [\"NA Percents\"])\n",
        "NA_percents2.sort_values(\"NA Percents\", ascending = False)"
      ]
    },
    {
      "cell_type": "code",
      "execution_count": null,
      "metadata": {
        "collapsed": true,
        "id": "Vghzg13vIkvm"
      },
      "outputs": [],
      "source": [
        "plays2 = plays.dropna(axis = 1, how = \"any\") #drop columns with NAs\n",
        "plays2[\"offenseFormation\"] = plays[\"offenseFormation\"] #add offense Formation column\n",
        "plays2.dropna(inplace = True) #drop rows with NAs"
      ]
    },
    {
      "cell_type": "markdown",
      "metadata": {
        "id": "xUWKSMy6X6mZ"
      },
      "source": [
        "# **EDA**"
      ]
    },
    {
      "cell_type": "code",
      "execution_count": null,
      "metadata": {
        "colab": {
          "base_uri": "https://localhost:8080/",
          "height": 335
        },
        "collapsed": true,
        "id": "gBHmoFoJQ2Cz",
        "outputId": "4246d9de-512d-4411-e9cc-88adf5ae9e76"
      },
      "outputs": [
        {
          "output_type": "execute_result",
          "data": {
            "text/plain": [
              "offenseFormation\n",
              "SHOTGUN       8791\n",
              "SINGLEBACK    3915\n",
              "EMPTY         1342\n",
              "I_FORM        1035\n",
              "PISTOL         641\n",
              "JUMBO          125\n",
              "WILDCAT         87\n",
              "Name: count, dtype: int64"
            ],
            "text/html": [
              "<div>\n",
              "<style scoped>\n",
              "    .dataframe tbody tr th:only-of-type {\n",
              "        vertical-align: middle;\n",
              "    }\n",
              "\n",
              "    .dataframe tbody tr th {\n",
              "        vertical-align: top;\n",
              "    }\n",
              "\n",
              "    .dataframe thead th {\n",
              "        text-align: right;\n",
              "    }\n",
              "</style>\n",
              "<table border=\"1\" class=\"dataframe\">\n",
              "  <thead>\n",
              "    <tr style=\"text-align: right;\">\n",
              "      <th></th>\n",
              "      <th>count</th>\n",
              "    </tr>\n",
              "    <tr>\n",
              "      <th>offenseFormation</th>\n",
              "      <th></th>\n",
              "    </tr>\n",
              "  </thead>\n",
              "  <tbody>\n",
              "    <tr>\n",
              "      <th>SHOTGUN</th>\n",
              "      <td>8791</td>\n",
              "    </tr>\n",
              "    <tr>\n",
              "      <th>SINGLEBACK</th>\n",
              "      <td>3915</td>\n",
              "    </tr>\n",
              "    <tr>\n",
              "      <th>EMPTY</th>\n",
              "      <td>1342</td>\n",
              "    </tr>\n",
              "    <tr>\n",
              "      <th>I_FORM</th>\n",
              "      <td>1035</td>\n",
              "    </tr>\n",
              "    <tr>\n",
              "      <th>PISTOL</th>\n",
              "      <td>641</td>\n",
              "    </tr>\n",
              "    <tr>\n",
              "      <th>JUMBO</th>\n",
              "      <td>125</td>\n",
              "    </tr>\n",
              "    <tr>\n",
              "      <th>WILDCAT</th>\n",
              "      <td>87</td>\n",
              "    </tr>\n",
              "  </tbody>\n",
              "</table>\n",
              "</div><br><label><b>dtype:</b> int64</label>"
            ]
          },
          "metadata": {},
          "execution_count": 5
        }
      ],
      "source": [
        "plays[\"offenseFormation\"].value_counts()"
      ]
    },
    {
      "cell_type": "code",
      "execution_count": null,
      "metadata": {
        "collapsed": true,
        "id": "06FOOVqpq3iC",
        "colab": {
          "base_uri": "https://localhost:8080/",
          "height": 272
        },
        "outputId": "2bb27321-7f41-4c51-952e-8b23697df5e3"
      },
      "outputs": [
        {
          "output_type": "execute_result",
          "data": {
            "text/plain": [
              "rushLocationType\n",
              "INSIDE_RIGHT     1941\n",
              "INSIDE_LEFT      1929\n",
              "OUTSIDE_RIGHT    1470\n",
              "OUTSIDE_LEFT     1283\n",
              "UNKNOWN           165\n",
              "Name: count, dtype: int64"
            ],
            "text/html": [
              "<div>\n",
              "<style scoped>\n",
              "    .dataframe tbody tr th:only-of-type {\n",
              "        vertical-align: middle;\n",
              "    }\n",
              "\n",
              "    .dataframe tbody tr th {\n",
              "        vertical-align: top;\n",
              "    }\n",
              "\n",
              "    .dataframe thead th {\n",
              "        text-align: right;\n",
              "    }\n",
              "</style>\n",
              "<table border=\"1\" class=\"dataframe\">\n",
              "  <thead>\n",
              "    <tr style=\"text-align: right;\">\n",
              "      <th></th>\n",
              "      <th>count</th>\n",
              "    </tr>\n",
              "    <tr>\n",
              "      <th>rushLocationType</th>\n",
              "      <th></th>\n",
              "    </tr>\n",
              "  </thead>\n",
              "  <tbody>\n",
              "    <tr>\n",
              "      <th>INSIDE_RIGHT</th>\n",
              "      <td>1941</td>\n",
              "    </tr>\n",
              "    <tr>\n",
              "      <th>INSIDE_LEFT</th>\n",
              "      <td>1929</td>\n",
              "    </tr>\n",
              "    <tr>\n",
              "      <th>OUTSIDE_RIGHT</th>\n",
              "      <td>1470</td>\n",
              "    </tr>\n",
              "    <tr>\n",
              "      <th>OUTSIDE_LEFT</th>\n",
              "      <td>1283</td>\n",
              "    </tr>\n",
              "    <tr>\n",
              "      <th>UNKNOWN</th>\n",
              "      <td>165</td>\n",
              "    </tr>\n",
              "  </tbody>\n",
              "</table>\n",
              "</div><br><label><b>dtype:</b> int64</label>"
            ]
          },
          "metadata": {},
          "execution_count": 6
        }
      ],
      "source": [
        "plays[\"rushLocationType\"].value_counts()"
      ]
    },
    {
      "cell_type": "code",
      "execution_count": null,
      "metadata": {
        "id": "GR6KaZCU1VrS"
      },
      "outputs": [],
      "source": [
        "Shotgun = plays[plays[\"offenseFormation\"] == \"SHOTGUN\"]\n",
        "Empty = plays[plays[\"offenseFormation\"] == \"EMPTY\"]\n",
        "Singleback = plays[plays[\"offenseFormation\"] == \"SINGLEBACK\"]\n",
        "I_Form = plays[plays[\"offenseFormation\"] == \"I_FORM\"]\n",
        "Pistol = plays[plays[\"offenseFormation\"] == \"PISTOL\"]"
      ]
    },
    {
      "cell_type": "markdown",
      "metadata": {
        "id": "8O-0L-optzPm"
      },
      "source": [
        "Yards Gained by Formation Box Plots:"
      ]
    },
    {
      "cell_type": "code",
      "execution_count": null,
      "metadata": {
        "id": "Vkwif0Klbk2O",
        "colab": {
          "base_uri": "https://localhost:8080/",
          "height": 430
        },
        "outputId": "e658539a-c6aa-4c26-9d19-1e64a00ab73e"
      },
      "outputs": [
        {
          "output_type": "display_data",
          "data": {
            "text/plain": [
              "<Figure size 640x480 with 1 Axes>"
            ],
            "image/png": "[encoded data removed]"
          },
          "metadata": {}
        }
      ],
      "source": [
        "fig, ax = plt.subplots()\n",
        "ax.set_ylabel('Yards Gained')\n",
        "labels = [\"Shotgun\", \"Singleback\", \"Empty\", \"I_Form\", \"Pistol\"]\n",
        "\n",
        "my_dict = {'Shotgun': Shotgun[\"yardsGained\"].values, 'Singleback': Singleback[\"yardsGained\"].values,\n",
        "           'Empty': Empty[\"yardsGained\"].values, 'I_Form': I_Form[\"yardsGained\"].values,\n",
        "           'Pistol': Pistol[\"yardsGained\"].values}\n",
        "\n",
        "bplot = ax.boxplot(my_dict.values(), patch_artist=True)\n",
        "ax.set_xticklabels(labels)\n",
        "\n",
        "colors = ['blue', 'green', 'brown', 'purple', 'pink']\n",
        "for patch, color in zip(bplot['boxes'], colors):\n",
        "    patch.set_facecolor(color)\n",
        "\n",
        "plt.show()"
      ]
    },
    {
      "cell_type": "code",
      "execution_count": null,
      "metadata": {
        "id": "xU0L45dz1Gs_",
        "colab": {
          "base_uri": "https://localhost:8080/"
        },
        "outputId": "893e09c2-2197-4408-dfde-13b68582312b"
      },
      "outputs": [
        {
          "output_type": "stream",
          "name": "stdout",
          "text": [
            "Median Yards Gained by Formation:\n",
            "SHOTGUN: 4.0\n",
            "EMPTY: 4.0\n",
            "SINGLEBACK: 3.0\n",
            "I_FORM: 3.0\n",
            "PISTOL: 3.0\n"
          ]
        }
      ],
      "source": [
        "print(\"Median Yards Gained by Formation:\")\n",
        "print(f'SHOTGUN: {np.median(Shotgun[\"yardsGained\"])}')\n",
        "print(f'EMPTY: {np.median(Empty[\"yardsGained\"])}')\n",
        "print(f'SINGLEBACK: {np.median(Singleback[\"yardsGained\"])}')\n",
        "print(f'I_FORM: {np.median(I_Form[\"yardsGained\"])}')\n",
        "print(f'PISTOL: {np.median(Pistol[\"yardsGained\"])}')"
      ]
    },
    {
      "cell_type": "code",
      "execution_count": null,
      "metadata": {
        "collapsed": true,
        "id": "OCwCgO__UHRz"
      },
      "outputs": [],
      "source": [
        "playsSubset = plays[~plays[\"rushLocationType\"].isin([\"UNKNOWN\"])] #rids QB Kneels\n",
        "\n",
        "Pass = playsSubset[~playsSubset[\"rushLocationType\"].isin([\"INSIDE_RIGHT\",\n",
        "                                                                    \"INSIDE_LEFT\",\n",
        "                                                                    \"OUTSIDE_RIGHT\",\n",
        "                                                                    \"OUTSIDE_LEFT\"])] #includes sacks and does not include scrambles, a scramble could be a QB designed run\n",
        "Run = playsSubset[playsSubset[\"rushLocationType\"].isin([\"INSIDE_RIGHT\",\n",
        "                                                                    \"INSIDE_LEFT\",\n",
        "                                                                    \"OUTSIDE_RIGHT\",\n",
        "                                                                    \"OUTSIDE_LEFT\"])]\n",
        "Run = Run[Run.passResult != \"R\"] #drop scrambles"
      ]
    },
    {
      "cell_type": "markdown",
      "metadata": {
        "id": "y_F9cGu0tf39"
      },
      "source": [
        "Yards Gained by Pass vs Run Box Plots:"
      ]
    },
    {
      "cell_type": "code",
      "execution_count": null,
      "metadata": {
        "id": "arHCszcJYaKa",
        "colab": {
          "base_uri": "https://localhost:8080/",
          "height": 430
        },
        "outputId": "296ce58b-fc67-45ba-db06-27e6fa8e2da4"
      },
      "outputs": [
        {
          "output_type": "display_data",
          "data": {
            "text/plain": [
              "<Figure size 640x480 with 1 Axes>"
            ],
            "image/png": "[encoded data removed]"
          },
          "metadata": {}
        }
      ],
      "source": [
        "fig, ax = plt.subplots()\n",
        "ax.set_ylabel('Yards Gained')\n",
        "labels = [\"Run\", \"Pass\"]\n",
        "\n",
        "my_dict = {'Run': Run[\"yardsGained\"].values, 'Complete': Pass[\"yardsGained\"].values}\n",
        "\n",
        "bplot = ax.boxplot(my_dict.values(), patch_artist=True)\n",
        "ax.set_xticklabels(labels)\n",
        "\n",
        "colors = ['blue', 'yellow']\n",
        "for patch, color in zip(bplot['boxes'], colors):\n",
        "    patch.set_facecolor(color)\n",
        "\n",
        "plt.show()"
      ]
    },
    {
      "cell_type": "code",
      "execution_count": null,
      "metadata": {
        "id": "0wrMFlDEWwcV",
        "colab": {
          "base_uri": "https://localhost:8080/"
        },
        "outputId": "cf6d6e3f-718b-4002-8df5-f391f48e4464"
      },
      "outputs": [
        {
          "output_type": "stream",
          "name": "stdout",
          "text": [
            "Median Yards Gained:\n",
            "Pass: 4.0\n",
            "Run: 3.0\n"
          ]
        }
      ],
      "source": [
        "print(\"Median Yards Gained:\")\n",
        "print(f'Pass: {np.median(Pass[\"yardsGained\"])}')\n",
        "print(f'Run: {np.median(Run[\"yardsGained\"])}')"
      ]
    },
    {
      "cell_type": "markdown",
      "metadata": {
        "id": "nRKqezNDxJ_2"
      },
      "source": [
        "Formation By Pass or Run:"
      ]
    },
    {
      "cell_type": "code",
      "execution_count": null,
      "metadata": {
        "id": "VLC6HgdEt-N3"
      },
      "outputs": [],
      "source": [
        "ShotgunPass = Pass[Pass[\"offenseFormation\"] == \"SHOTGUN\"]\n",
        "ShotgunRun = Run[Run[\"offenseFormation\"] == \"SHOTGUN\"]\n",
        "EmptyPass = Pass[Pass[\"offenseFormation\"] == \"EMPTY\"]\n",
        "EmptyRun = Run[Run[\"offenseFormation\"] == \"EMPTY\"]\n",
        "SinglebackPass= Pass[Pass[\"offenseFormation\"] == \"SINGLEBACK\"]\n",
        "SinglebackRun = Run[Run[\"offenseFormation\"] == \"SINGLEBACK\"]\n",
        "I_FormPass = Pass[Pass[\"offenseFormation\"] == \"I_FORM\"]\n",
        "I_FormRun = Run[Run[\"offenseFormation\"] == \"I_FORM\"]\n",
        "PistolPass = Pass[Pass[\"offenseFormation\"] == \"PISTOL\"]\n",
        "PistolRun = Run[Run[\"offenseFormation\"] == \"PISTOL\"]"
      ]
    },
    {
      "cell_type": "code",
      "execution_count": null,
      "metadata": {
        "id": "K8yKIdbgu_Tf",
        "colab": {
          "base_uri": "https://localhost:8080/"
        },
        "outputId": "1fdd4b22-5ffc-4f82-d7fc-38bf4d192906"
      },
      "outputs": [
        {
          "output_type": "execute_result",
          "data": {
            "text/plain": [
              "47"
            ]
          },
          "metadata": {},
          "execution_count": 14
        }
      ],
      "source": [
        "len(EmptyRun) #only 47 rows so exclude from box plots and medians"
      ]
    },
    {
      "cell_type": "markdown",
      "metadata": {
        "id": "3hB97-nEuRDh"
      },
      "source": [
        "Yards Gained by Formation and Play Type Box Plots:"
      ]
    },
    {
      "cell_type": "code",
      "execution_count": null,
      "metadata": {
        "id": "_Ua-DEJbuOgd",
        "colab": {
          "base_uri": "https://localhost:8080/",
          "height": 533
        },
        "outputId": "825b985d-51c2-40f5-c0a3-aff818305e82"
      },
      "outputs": [
        {
          "output_type": "display_data",
          "data": {
            "text/plain": [
              "<Figure size 640x480 with 1 Axes>"
            ],
            "image/png": "[encoded data removed]"
          },
          "metadata": {}
        },
        {
          "output_type": "display_data",
          "data": {
            "text/plain": [
              "<Figure size 2000x1000 with 0 Axes>"
            ]
          },
          "metadata": {}
        }
      ],
      "source": [
        "fig, ax = plt.subplots()\n",
        "ax.set_ylabel('Yards Gained')\n",
        "labels = [\"Shotgun Pass\", 'Shotgun Run', \"Singleback Pass\", \"Singleback Run\", \"Empty Pass\",\n",
        "          \"I_Form Pass\", \"I_Form Run\", \"Pistol Pass\", \"Pistol Run\"]\n",
        "\n",
        "my_dict = {'Shotgun Pass': ShotgunPass[\"yardsGained\"].values, 'Shotgun Run': ShotgunRun[\"yardsGained\"].values,\n",
        "           'Singleback Pass': SinglebackPass[\"yardsGained\"].values, 'Singleback Run': SinglebackRun[\"yardsGained\"].values,\n",
        "           'Empty Pass': EmptyPass[\"yardsGained\"].values, 'I_Form Pass': I_FormPass[\"yardsGained\"].values,\n",
        "           'I_Form Run': I_FormRun[\"yardsGained\"].values,\n",
        "           'Pistol Pass': PistolPass[\"yardsGained\"].values, 'Pistol Run': PistolRun[\"yardsGained\"].values, }\n",
        "\n",
        "bplot = ax.boxplot(my_dict.values(), patch_artist=True)\n",
        "ax.set_xticklabels(labels)\n",
        "plt.xticks(rotation = 55)\n",
        "\n",
        "colors = ['blue', 'green', 'brown', 'purple', 'pink', 'black', 'yellow', 'magenta', 'gold', 'silver']\n",
        "for patch, color in zip(bplot['boxes'], colors):\n",
        "    patch.set_facecolor(color)\n",
        "\n",
        "plt.figure(figsize=(20, 10))\n",
        "\n",
        "plt.show()"
      ]
    },
    {
      "cell_type": "code",
      "execution_count": null,
      "metadata": {
        "id": "YkyIeaRZxL8d",
        "colab": {
          "base_uri": "https://localhost:8080/"
        },
        "outputId": "76fb43a2-6d30-493f-fb16-9037e3dc7377"
      },
      "outputs": [
        {
          "output_type": "stream",
          "name": "stdout",
          "text": [
            "Median Yards Gained and Length:\n",
            "Shotgun Pass: (4.0, 6285)\n",
            "Singleback Run: (3.0, 2609)\n",
            "Shotgun Run: (3.0, 2238)\n",
            "Singleback Pass: (4.0, 1253)\n",
            "Empty Pass: (4.0, 1247)\n",
            "I_Form Run: (3.0, 736)\n",
            "Pistol Run: (3.0, 415)\n",
            "I_Form Pass (2.5, 286)\n",
            "Pistol Pass: (5.0, 209)\n"
          ]
        }
      ],
      "source": [
        "print(\"Median Yards Gained and Length:\")\n",
        "print(f'Shotgun Pass: {np.median(ShotgunPass[\"yardsGained\"]), len(ShotgunPass)}')\n",
        "print(f'Singleback Run: {np.median(SinglebackRun[\"yardsGained\"]), len(SinglebackRun)}')\n",
        "print(f'Shotgun Run: {np.median(ShotgunRun[\"yardsGained\"]), len(ShotgunRun)}')\n",
        "print(f'Singleback Pass: {np.median(SinglebackPass[\"yardsGained\"]), len(SinglebackPass)}')\n",
        "print(f'Empty Pass: {np.median(EmptyPass[\"yardsGained\"]), len(EmptyPass)}')\n",
        "print(f'I_Form Run: {np.median(I_FormRun[\"yardsGained\"]), len(I_FormRun)}')\n",
        "print(f'Pistol Run: {np.median(PistolRun[\"yardsGained\"]), len(PistolRun)}')\n",
        "print(f'I_Form Pass {np.median(I_FormPass[\"yardsGained\"]), len(I_FormPass)}')\n",
        "print(f'Pistol Pass: {np.median(PistolPass[\"yardsGained\"]), len(PistolPass)}')"
      ]
    },
    {
      "cell_type": "markdown",
      "metadata": {
        "id": "EWbBr2COp7Ul"
      },
      "source": [
        "# **Correlation Function:**"
      ]
    },
    {
      "cell_type": "code",
      "source": [
        "from sklearn.model_selection import train_test_split\n",
        "from numpy.random.mtrand import random_sample\n",
        "from sklearn.preprocessing import StandardScaler, MinMaxScaler\n",
        "from sklearn.pipeline import make_pipeline\n",
        "from sklearn.metrics import mean_squared_error, mean_absolute_error, accuracy_score"
      ],
      "metadata": {
        "id": "bPHAUAi2H0jY"
      },
      "execution_count": null,
      "outputs": []
    },
    {
      "cell_type": "code",
      "execution_count": null,
      "metadata": {
        "id": "EShe0NZTMbhr"
      },
      "outputs": [],
      "source": [
        "import scipy.stats\n",
        "def correlation(dataset, threshold, target): #Function to get Pearson's correlation between input and target\n",
        "  data = []\n",
        "  cols = []\n",
        "  correlations = []\n",
        "  if isinstance(target, np.ndarray):\n",
        "    target = pd.Series(target)\n",
        "  for col in dataset.columns:\n",
        "      cor2 = dataset.loc[:,col].corr(target) #scipy.stats.spearmanr(x, y)[0] and scipy.stats.kendalltau(x, y)[0]\n",
        "      if abs(cor2) > threshold:\n",
        "        data.append(dataset.loc[:,col]) #make list of columns that meet the threshold\n",
        "        cols.append(col)\n",
        "        correlations.append(cor2) #make list of correlations that meet the threshold\n",
        "\n",
        "  if len(data) == 0:\n",
        "     return pd.DataFrame()\n",
        "\n",
        "  df = pd.DataFrame(data)\n",
        "  df_len = len(df.columns)\n",
        "  df.insert(df_len, 'corrs', correlations)\n",
        "  df.sort_values(by=df.columns[-1], ascending=False, inplace=True, key = abs)\n",
        "\n",
        "  print(df.iloc[0:5, -1:])\n",
        "  df = df.transpose()\n",
        "  df_corrs = df.iloc[-1:, :]\n",
        "  df = df.drop(df.tail(1).index)\n",
        "  return data, df_corrs"
      ]
    },
    {
      "cell_type": "markdown",
      "metadata": {
        "id": "mVauqgatZp6w"
      },
      "source": [
        "# **Preprocessing:**"
      ]
    },
    {
      "cell_type": "code",
      "execution_count": null,
      "metadata": {
        "id": "V9XSC7luz2A5"
      },
      "outputs": [],
      "source": [
        "import dask.dataframe as dd\n",
        "tracking_9 = dd.read_csv(\"tracking_week_9.csv\", assume_missing=True).compute()\n",
        "tracking_8 = dd.read_csv(\"tracking_week_8.csv\",assume_missing=True).compute()\n",
        "tracking_7 = dd.read_csv(\"tracking_week_7.csv\",assume_missing=True).compute()\n",
        "tracking_6 = dd.read_csv(\n",
        "    \"tracking_week_6.csv\",\n",
        "    assume_missing=True,\n",
        "    on_bad_lines=\"skip\",\n",
        "    engine=\"python\",  # Use the Python engine for more flexibility\n",
        ").compute()\n",
        "tracking_5 = dd.read_csv(\"tracking_week_5.csv\",assume_missing=True).compute()\n",
        "tracking_4 = dd.read_csv(\"tracking_week_4.csv\",assume_missing=True,on_bad_lines=\"skip\",\n",
        "    engine=\"python\",\n",
        ").compute()\n",
        "tracking_3 = dd.read_csv( \"tracking_week_3.csv\",assume_missing=True,on_bad_lines=\"skip\",\n",
        "    engine=\"python\",\n",
        ").compute()\n",
        "tracking_2 = dd.read_csv(\"tracking_week_2.csv\", assume_missing=True, on_bad_lines=\"skip\",\n",
        "    engine=\"python\",\n",
        ").compute()\n",
        "tracking_1 = dd.read_csv(\"tracking_week_1.csv\",assume_missing=True).compute()\n",
        "tracking = dd.concat([tracking_9, tracking_8, tracking_7, tracking_6, tracking_5,\n",
        "                      tracking_4, tracking_3, tracking_2, tracking_1], ignore_index=True)\n",
        "players = dd.read_csv(\"players.csv\")\n",
        "print(\"Percent of NAs by column: \")\n",
        "round(tracking.isnull().sum().compute()/len(tracking) * 100, 1)"
      ]
    },
    {
      "cell_type": "code",
      "execution_count": null,
      "metadata": {
        "collapsed": true,
        "id": "VYllYsLVSiil"
      },
      "outputs": [],
      "source": [
        "from joblib import Parallel, delayed\n",
        "\n",
        "trackingBS = tracking[tracking[\"frameType\"] == \"BEFORE_SNAP\"]\n",
        "trackingBS = trackingBS[trackingBS[\"displayName\"] != \"football\"]\n",
        "\n",
        "# Sort to ensure the last row is accessible\n",
        "def sort_chunk(df_chunk):\n",
        "    return df_chunk.sort_values(by=[\"playId\", \"gameId\", \"displayName\"])\n",
        "\n",
        "# Get the number of partitions in trackingBS\n",
        "npartitions = trackingBS.npartitions\n",
        "\n",
        "# Create a list of chunks based on partitions\n",
        "chunks = [trackingBS.get_partition(i) for i in range(npartitions)]\n",
        "\n",
        "sorted_chunks = Parallel(n_jobs=-1)(delayed(sort_chunk)(chunk) for chunk in chunks)\n",
        "\n",
        "# Concatenate the sorted chunks back together\n",
        "trackingBS_sorted = dd.concat(sorted_chunks).sort_values(by=[\"playId\", \"gameId\", \"displayName\"])\n",
        "trackingBS_sorted = trackingBS_sorted.reset_index(drop=True)\n",
        "\n",
        "# Get the last row for each group so only have data for last moment before the ball was snapped\n",
        "trackingBS_sorted = trackingBS_sorted.groupby([\"playId\", \"gameId\", \"displayName\"]).apply(\n",
        "    lambda group: group.iloc[-1], meta=trackingBS\n",
        ").compute()\n",
        "\n",
        "players2 = players[[\"nflId\", \"weight\", \"position\"]].compute()\n",
        "trackingBS_players = trackingBS_sorted.merge(players2, on=\"nflId\", how=\"left\")"
      ]
    },
    {
      "cell_type": "code",
      "execution_count": null,
      "metadata": {
        "id": "TyhfaX_rHX0e"
      },
      "outputs": [],
      "source": [
        "#don't need below for modeling\n",
        "trackingBS_players.drop(['frameId','displayName','playDirection', 'frameType', 'time', 'jerseyNumber', 'club', 'event'], axis = 1, inplace = True)"
      ]
    },
    {
      "cell_type": "code",
      "execution_count": null,
      "metadata": {
        "collapsed": true,
        "id": "f-7JgQImNWWM"
      },
      "outputs": [],
      "source": [
        "from itertools import cycle, count, islice\n",
        "from collections import defaultdict\n",
        "\n",
        "def fn(x):\n",
        "    d = defaultdict(lambda: count(1))\n",
        "    names = cycle(x.columns)\n",
        "    vals = x.values.ravel()\n",
        "\n",
        "    return pd.DataFrame(\n",
        "        [vals],\n",
        "        columns=[f\"{n}.{next(d[n])}\" for n in islice(names, len(vals))],\n",
        "    )\n",
        "\n",
        "\n",
        "trackingBS_players2 = trackingBS_players.groupby(['playId', 'gameId']).apply(fn).reset_index(drop=True)"
      ]
    },
    {
      "cell_type": "code",
      "execution_count": null,
      "metadata": {
        "id": "OGdkBHI-PAc3"
      },
      "outputs": [],
      "source": [
        "#remove repetitive IDs\n",
        "trackingBS_players2.drop(['gameId.2', 'playId.2', 'gameId.3', 'playId.3', 'gameId.4', 'playId.4',\n",
        "                          'gameId.5', 'playId.5', 'gameId.6', 'playId.6', 'gameId.7', 'playId.7',\n",
        "                          'gameId.8', 'playId.8', 'gameId.9', 'playId.9', 'gameId.10', 'playId.10',\n",
        "                          'gameId.11', 'playId.11', 'gameId.12', 'playId.12', 'gameId.13', 'playId.13',\n",
        "                          'gameId.14', 'playId.14', 'gameId.15', 'playId.15', 'gameId.16', 'playId.16',\n",
        "                          'gameId.17', 'playId.17', 'gameId.18', 'playId.18', 'gameId.19', 'playId.19',\n",
        "                          'gameId.20', 'playId.20', 'gameId.21', 'playId.21', 'gameId.22', 'playId.22'], axis = 1, inplace = True)\n",
        "trackingBS_players2 = trackingBS_players2.loc[:, ~trackingBS_players2.columns.str.startswith('nflId')]"
      ]
    },
    {
      "cell_type": "code",
      "execution_count": null,
      "metadata": {
        "id": "nICBPZR8SStZ"
      },
      "outputs": [],
      "source": [
        "playsTracking = plays.merge(trackingBS_players2, left_on=[\"playId\", \"gameId\"], right_on = [\"playId.1\", \"gameId.1\"],\n",
        "                            how='inner')"
      ]
    },
    {
      "cell_type": "code",
      "source": [
        "playsTracking['penaltyYards2'] = playsTracking['yardsGained'] - playsTracking['prePenaltyYardsGained']\n",
        "playsTracking = playsTracking[playsTracking['penaltyYards2'] >= 0] #filter out plays where a penalty caused the offense to lose yards"
      ],
      "metadata": {
        "id": "tqs7zTWK0EDl"
      },
      "execution_count": null,
      "outputs": []
    },
    {
      "cell_type": "code",
      "execution_count": null,
      "metadata": {
        "id": "NfJol5_MT3qQ"
      },
      "outputs": [],
      "source": [
        "playsTracking = playsTracking[~playsTracking[\"rushLocationType\"].isin([\"UNKNOWN\"])] #rids QB Kneels"
      ]
    },
    {
      "cell_type": "code",
      "source": [
        "playsTracking.loc[~playsTracking[\"rushLocationType\"].isin([\"INSIDE_RIGHT\",\n",
        "                                                                    \"INSIDE_LEFT\",\n",
        "                                                                    \"OUTSIDE_RIGHT\",\n",
        "                                                                    \"OUTSIDE_LEFT\"]), 'Pass_Run'] = 1 #1 for Pass\n",
        "playsTracking.loc[playsTracking[\"rushLocationType\"].isin([\"INSIDE_RIGHT\",\n",
        "                                                                    \"INSIDE_LEFT\",\n",
        "                                                                    \"OUTSIDE_RIGHT\",\n",
        "                                                                    \"OUTSIDE_LEFT\"]), 'Pass_Run'] = 0"
      ],
      "metadata": {
        "id": "veHKYv23USuv",
        "collapsed": true
      },
      "execution_count": null,
      "outputs": []
    },
    {
      "cell_type": "code",
      "execution_count": null,
      "metadata": {
        "id": "Ld9C2-sHGdD5"
      },
      "outputs": [],
      "source": [
        "playsTracking.loc[playsTracking['possessionTeam'] == playsTracking['yardlineSide'], 'yardlineSide'] = 1\n",
        "playsTracking.loc[playsTracking['possessionTeam'] != playsTracking['yardlineSide'], 'yardlineSide'] = 0"
      ]
    },
    {
      "cell_type": "code",
      "execution_count": null,
      "metadata": {
        "collapsed": true,
        "id": "Yn6ghV4pJgk8"
      },
      "outputs": [],
      "source": [
        "#don't need below for modeling\n",
        "playsTracking_inputs = playsTracking.drop([\"playDescription\", 'playNullifiedByPenalty'], axis = 1)\n",
        "playsTracking_inputs.drop(columns = ['yardsGained'], inplace = True)\n",
        "\n",
        "drop_columns = playsTracking_inputs.loc[:, \"playClockAtSnap\":\"penaltyYards\"].columns\n",
        "drop_columns2 = playsTracking_inputs.loc[:, \"homeTeamWinProbabilityAdded\":\"pff_manZone\"]\n",
        "playsTracking_inputs = playsTracking_inputs.drop(columns = drop_columns)\n",
        "playsTracking_inputs = playsTracking_inputs.drop(columns = drop_columns2)"
      ]
    },
    {
      "cell_type": "code",
      "source": [
        "playsTracking_inputs = playsTracking_inputs.reset_index(drop=True)\n",
        "playsTracking_inputs['prev_yards_gained'] = playsTracking_inputs.groupby('possessionTeam')['prePenaltyYardsGained'].shift(1)\n",
        "#got_first_down works because I got rid of plays where team lost yards from penalty\n",
        "got_first_down = playsTracking_inputs['prePenaltyYardsGained'] - playsTracking_inputs[\"yardsToGo\"]\n",
        "\n",
        "for i in range(len(got_first_down)):\n",
        "  if got_first_down[i] >= 0:\n",
        "    got_first_down[i] = 1\n",
        "  else:\n",
        "    got_first_down[i] = 0\n",
        "\n",
        "playsTracking_inputs['got_first_down'] = got_first_down\n",
        "playsTracking_inputs['prev_got_first'] = playsTracking_inputs.groupby('possessionTeam')['got_first_down'].shift(1)\n",
        "playsTracking_inputs = playsTracking_inputs[playsTracking_inputs['prev_got_first'].notna()]\n",
        "playsTracking_inputs['prev_plays_ran'] = playsTracking_inputs.groupby('possessionTeam').cumcount()\n",
        "playsTracking_inputs = playsTracking_inputs[playsTracking_inputs['prev_plays_ran'] != 0]\n",
        "playsTracking_inputs['prev_first_downs'] = playsTracking_inputs.groupby('prev_got_first').cumcount()\n",
        "playsTracking_inputs['prev_first_downs/play'] = playsTracking_inputs['prev_first_downs']/playsTracking_inputs['prev_plays_ran']\n",
        "playsTracking_inputs = playsTracking_inputs.reset_index(drop=True)\n",
        "playsTracking_inputs['prev_yards_gained_total'] = playsTracking_inputs.groupby('prev_yards_gained').cumcount()\n",
        "playsTracking_inputs['prev_yards_gained_total/play'] = playsTracking_inputs['prev_yards_gained_total']/playsTracking_inputs['prev_plays_ran']\n",
        "playsTracking_inputs = playsTracking_inputs.reset_index(drop=True)"
      ],
      "metadata": {
        "collapsed": true,
        "id": "UfRO7lk3Awvr"
      },
      "execution_count": null,
      "outputs": []
    },
    {
      "cell_type": "code",
      "source": [
        "playsTracking_inputs['def_prev_yards_gained'] = playsTracking_inputs.groupby('defensiveTeam')['prePenaltyYardsGained'].shift(1)\n",
        "playsTracking_inputs['def_prev_got_first'] = playsTracking_inputs.groupby('defensiveTeam')['got_first_down'].shift(1)\n",
        "playsTracking_inputs = playsTracking_inputs[playsTracking_inputs['def_prev_got_first'].notna()]\n",
        "playsTracking_inputs['def_prev_plays_ran'] = playsTracking_inputs.groupby('defensiveTeam').cumcount()\n",
        "playsTracking_inputs = playsTracking_inputs[playsTracking_inputs['def_prev_plays_ran'] != 0]\n",
        "playsTracking_inputs['def_prev_first_downs'] = playsTracking_inputs.groupby('def_prev_got_first').cumcount()\n",
        "playsTracking_inputs['def_prev_first_downs/play'] = playsTracking_inputs['def_prev_first_downs']/playsTracking_inputs['def_prev_plays_ran']\n",
        "playsTracking_inputs = playsTracking_inputs.reset_index(drop=True)\n",
        "playsTracking_inputs['def_prev_yards_gained_total'] = playsTracking_inputs.groupby('def_prev_yards_gained').cumcount()\n",
        "playsTracking_inputs['def_prev_yards_gained_total/play'] = playsTracking_inputs['def_prev_yards_gained_total']/playsTracking_inputs['def_prev_plays_ran']\n",
        "playsTracking_inputs = playsTracking_inputs.reset_index(drop=True)\n",
        "playsTracking_inputs = playsTracking_inputs.drop([\"defensiveTeam\"], axis = 1)"
      ],
      "metadata": {
        "collapsed": true,
        "id": "A-X8K3Cg1TdD"
      },
      "execution_count": null,
      "outputs": []
    },
    {
      "cell_type": "code",
      "source": [
        "columns = playsTracking_inputs.columns\n",
        "\n",
        "x_columns = [col for col in columns if col.startswith('x')]\n",
        "y_columns = [col for col in columns if col.startswith('y')]\n",
        "y_columns = y_columns[3:]\n",
        "\n",
        "print(\"x_columns:\", x_columns)\n",
        "print(\"y_columns:\", y_columns)\n",
        "\n",
        "x_suffixes = [col[1:] for col in x_columns]\n",
        "y_suffixes = [col[1:] for col in y_columns]\n",
        "\n",
        "# Find common suffixes\n",
        "common_suffixes = set(x_suffixes).intersection(y_suffixes)\n",
        "\n",
        "print(\"Common suffixes:\", common_suffixes)\n",
        "\n",
        "for suffix in common_suffixes:\n",
        "  x_col = 'x' + suffix\n",
        "  y_col = 'y' + suffix\n",
        "  xy_col = 'xy' + suffix\n",
        "  # Perform element-wise multiplication\n",
        "  playsTracking_inputs[xy_col] = playsTracking_inputs[x_col] * playsTracking_inputs[y_col]"
      ],
      "metadata": {
        "colab": {
          "base_uri": "https://localhost:8080/"
        },
        "collapsed": true,
        "id": "LzF2w7brO5ba",
        "outputId": "12a58ac4-182b-4a90-bac5-871eb4a41924"
      },
      "execution_count": null,
      "outputs": [
        {
          "output_type": "stream",
          "name": "stdout",
          "text": [
            "x_columns: ['x.1', 'x.2', 'x.3', 'x.4', 'x.5', 'x.6', 'x.7', 'x.8', 'x.9', 'x.10', 'x.11', 'x.12', 'x.13', 'x.14', 'x.15', 'x.16', 'x.17', 'x.18', 'x.19', 'x.20', 'x.21', 'x.22']\n",
            "y_columns: ['y.1', 'y.2', 'y.3', 'y.4', 'y.5', 'y.6', 'y.7', 'y.8', 'y.9', 'y.10', 'y.11', 'y.12', 'y.13', 'y.14', 'y.15', 'y.16', 'y.17', 'y.18', 'y.19', 'y.20', 'y.21', 'y.22']\n",
            "Common suffixes: {'.7', '.19', '.18', '.12', '.13', '.20', '.4', '.10', '.3', '.1', '.14', '.5', '.9', '.15', '.8', '.6', '.21', '.16', '.2', '.22', '.17', '.11'}\n"
          ]
        }
      ]
    },
    {
      "cell_type": "code",
      "source": [
        "gameIds = playsTracking_inputs['gameId'].values\n",
        "possessionTeams = playsTracking_inputs['gameId'].values\n",
        "prePenaltyYardsGained = playsTracking_inputs['prePenaltyYardsGained'].values\n",
        "playsTracking_inputs = playsTracking_inputs.drop(columns = ['prePenaltyYardsGained',\n",
        "                                                            'possessionTeam', 'gameId',\n",
        "                                                            'playId', 'playId.1', 'gameId.1',\n",
        "                                                            'yardlineSide', 'got_first_down'])"
      ],
      "metadata": {
        "collapsed": true,
        "id": "2iVzPF7bou4I"
      },
      "execution_count": null,
      "outputs": []
    },
    {
      "cell_type": "code",
      "source": [
        "from sklearn import preprocessing\n",
        "label_encoder = preprocessing.LabelEncoder()\n",
        "for i in playsTracking_inputs.columns:\n",
        "  if playsTracking_inputs[i].dtype not in ['int64', 'float64']:\n",
        "    playsTracking_inputs[i] = label_encoder.fit_transform(playsTracking_inputs[i]) + 1"
      ],
      "metadata": {
        "id": "W5t1pHD86GAd"
      },
      "execution_count": null,
      "outputs": []
    },
    {
      "cell_type": "code",
      "execution_count": null,
      "metadata": {
        "id": "Fea5VpbPOExM"
      },
      "outputs": [],
      "source": [
        "playsTracking_inputs_formation = playsTracking_inputs.mul(playsTracking_inputs.offenseFormation, axis=0)\n",
        "playsTracking_inputs_formation = playsTracking_inputs_formation.add_suffix('*OF')\n",
        "\n",
        "playsTracking_inputs_alignment = playsTracking_inputs.mul(playsTracking_inputs.receiverAlignment, axis=0)\n",
        "playsTracking_inputs_alignment = playsTracking_inputs_alignment.add_suffix('*RA')\n",
        "\n",
        "playsTracking_inputs_downs = playsTracking_inputs.mul(playsTracking_inputs.down, axis=0)\n",
        "playsTracking_inputs_downs = playsTracking_inputs_downs.add_suffix('*down')\n",
        "\n",
        "playsTracking_inputs_yardsTG = playsTracking_inputs.mul(playsTracking_inputs.yardsToGo, axis=0)\n",
        "playsTracking_inputs_yardsTG = playsTracking_inputs_yardsTG.add_suffix('*yardsTG')\n",
        "\n",
        "\n",
        "playsTracking_inputs_yardsTG_RA = playsTracking_inputs_yardsTG.mul(playsTracking_inputs.receiverAlignment, axis=0)\n",
        "playsTracking_inputs_yardsTG_RA = playsTracking_inputs_yardsTG_RA.add_suffix('*RA')\n",
        "\n",
        "playsTracking_inputs_yardsTG_RA_down = playsTracking_inputs_yardsTG_RA.mul(playsTracking_inputs.down, axis=0)\n",
        "playsTracking_inputs_yardsTG_RA_down = playsTracking_inputs_yardsTG_RA_down.add_suffix('*down')\n",
        "\n",
        "playsTracking_inputs_yardsTG_RA_down_OF = playsTracking_inputs_yardsTG_RA_down.mul(playsTracking_inputs.offenseFormation, axis=0)\n",
        "playsTracking_inputs_yardsTG_RA_down_OF = playsTracking_inputs_yardsTG_RA_down_OF.add_suffix('*OF')"
      ]
    },
    {
      "cell_type": "code",
      "execution_count": null,
      "metadata": {
        "id": "tjhL8fsiOn6Z"
      },
      "outputs": [],
      "source": [
        "df_inputs = pd.concat([playsTracking_inputs, playsTracking_inputs_alignment, playsTracking_inputs_formation,\n",
        "                       playsTracking_inputs_downs, playsTracking_inputs_yardsTG,\n",
        "                       playsTracking_inputs_yardsTG_RA, playsTracking_inputs_yardsTG_RA_down,\n",
        "                       playsTracking_inputs_yardsTG_RA_down_OF], axis=1)"
      ]
    },
    {
      "cell_type": "code",
      "source": [
        "df_inputs['gameId'] = gameIds\n",
        "df_inputs['possessionTeam'] = possessionTeams\n",
        "df_inputs['prePenaltyYardsGained'] = prePenaltyYardsGained"
      ],
      "metadata": {
        "collapsed": true,
        "id": "2nbduEIAqN72"
      },
      "execution_count": null,
      "outputs": []
    },
    {
      "cell_type": "code",
      "execution_count": null,
      "metadata": {
        "colab": {
          "base_uri": "https://localhost:8080/",
          "height": 384
        },
        "collapsed": true,
        "id": "MfcHRsSvd1aF",
        "outputId": "1fa59019-4fc2-4cfd-b062-178144c175f4"
      },
      "outputs": [
        {
          "output_type": "stream",
          "name": "stdout",
          "text": [
            "Percent of NAs by column: \n"
          ]
        },
        {
          "output_type": "execute_result",
          "data": {
            "text/plain": [
              "gameId               0.0\n",
              "season               0.0\n",
              "week                 0.0\n",
              "gameDate             0.0\n",
              "gameTimeEastern      0.0\n",
              "homeTeamAbbr         0.0\n",
              "visitorTeamAbbr      0.0\n",
              "homeFinalScore       0.0\n",
              "visitorFinalScore    0.0\n",
              "dtype: float64"
            ],
            "text/html": [
              "<div>\n",
              "<style scoped>\n",
              "    .dataframe tbody tr th:only-of-type {\n",
              "        vertical-align: middle;\n",
              "    }\n",
              "\n",
              "    .dataframe tbody tr th {\n",
              "        vertical-align: top;\n",
              "    }\n",
              "\n",
              "    .dataframe thead th {\n",
              "        text-align: right;\n",
              "    }\n",
              "</style>\n",
              "<table border=\"1\" class=\"dataframe\">\n",
              "  <thead>\n",
              "    <tr style=\"text-align: right;\">\n",
              "      <th></th>\n",
              "      <th>0</th>\n",
              "    </tr>\n",
              "  </thead>\n",
              "  <tbody>\n",
              "    <tr>\n",
              "      <th>gameId</th>\n",
              "      <td>0.0</td>\n",
              "    </tr>\n",
              "    <tr>\n",
              "      <th>season</th>\n",
              "      <td>0.0</td>\n",
              "    </tr>\n",
              "    <tr>\n",
              "      <th>week</th>\n",
              "      <td>0.0</td>\n",
              "    </tr>\n",
              "    <tr>\n",
              "      <th>gameDate</th>\n",
              "      <td>0.0</td>\n",
              "    </tr>\n",
              "    <tr>\n",
              "      <th>gameTimeEastern</th>\n",
              "      <td>0.0</td>\n",
              "    </tr>\n",
              "    <tr>\n",
              "      <th>homeTeamAbbr</th>\n",
              "      <td>0.0</td>\n",
              "    </tr>\n",
              "    <tr>\n",
              "      <th>visitorTeamAbbr</th>\n",
              "      <td>0.0</td>\n",
              "    </tr>\n",
              "    <tr>\n",
              "      <th>homeFinalScore</th>\n",
              "      <td>0.0</td>\n",
              "    </tr>\n",
              "    <tr>\n",
              "      <th>visitorFinalScore</th>\n",
              "      <td>0.0</td>\n",
              "    </tr>\n",
              "  </tbody>\n",
              "</table>\n",
              "</div><br><label><b>dtype:</b> float64</label>"
            ]
          },
          "metadata": {},
          "execution_count": 33
        }
      ],
      "source": [
        "games = pd.read_csv(\"games.csv\")\n",
        "print(\"Percent of NAs by column: \")\n",
        "round(games.isnull().sum()/len(games) * 100, 1)"
      ]
    },
    {
      "cell_type": "code",
      "execution_count": null,
      "metadata": {
        "id": "aoHnN4jMdw4W"
      },
      "outputs": [],
      "source": [
        "df_inputs = df_inputs.merge(games, left_on=[\"gameId\"], right_on = [\"gameId\"],\n",
        "                            how='inner')"
      ]
    },
    {
      "cell_type": "code",
      "source": [
        "df_inputs.drop(columns = ['homeFinalScore', 'visitorFinalScore', 'homeTeamAbbr', 'visitorTeamAbbr', 'gameTimeEastern'], inplace = True)"
      ],
      "metadata": {
        "id": "buOyzZb7qbp-"
      },
      "execution_count": null,
      "outputs": []
    },
    {
      "cell_type": "code",
      "execution_count": null,
      "metadata": {
        "collapsed": true,
        "id": "DL7eMlYOeY8d"
      },
      "outputs": [],
      "source": [
        "SOS = pd.read_csv(\"SOS_Data.csv\")"
      ]
    },
    {
      "cell_type": "code",
      "execution_count": null,
      "metadata": {
        "id": "h-PlfCbat0kl",
        "collapsed": true
      },
      "outputs": [],
      "source": [
        "from datetime import datetime\n",
        "df_inputs['gameDate'] = pd.to_datetime(df_inputs['gameDate'])\n",
        "SOS['Date'] = pd.to_datetime(SOS['Date'])\n",
        "df_inputs.reset_index(inplace = True)"
      ]
    },
    {
      "cell_type": "code",
      "execution_count": null,
      "metadata": {
        "collapsed": true,
        "id": "86mbPGa0u43q"
      },
      "outputs": [],
      "source": [
        "SOS['Team'] = label_encoder.fit_transform(SOS['Team']) + 1\n",
        "df_inputs.sort_values(['gameDate', 'possessionTeam'], inplace = True)\n",
        "# Merge the dataframes:\n",
        "df_inputs = pd.merge_asof(df_inputs, SOS, left_on='gameDate', right_on='Date', left_by='possessionTeam', right_by='Team', direction='backward')"
      ]
    },
    {
      "cell_type": "code",
      "source": [
        "got_first_down_reduced = df_inputs['prePenaltyYardsGained'] - df_inputs[\"yardsToGo\"]\n",
        "for i in range(len(got_first_down_reduced)):\n",
        "  if got_first_down_reduced[i] >= 0:\n",
        "    got_first_down_reduced[i] = 1\n",
        "  else:\n",
        "    got_first_down_reduced[i] = 0"
      ],
      "metadata": {
        "id": "V693NA5OXBkS"
      },
      "execution_count": null,
      "outputs": []
    },
    {
      "cell_type": "code",
      "execution_count": null,
      "metadata": {
        "collapsed": true,
        "id": "UzR03syD9wLR"
      },
      "outputs": [],
      "source": [
        "df_inputs.fillna(0, inplace = True)\n",
        "df_inputs.drop(columns = ['Team', 'gameDate', 'Date', 'index', 'gameId', 'prePenaltyYardsGained',\n",
        "                          'possessionTeam'], inplace = True)"
      ]
    },
    {
      "cell_type": "code",
      "execution_count": null,
      "metadata": {
        "collapsed": true,
        "id": "QdYx-C-Wh2zD"
      },
      "outputs": [],
      "source": [
        "df_inputs_SOS = df_inputs.mul(df_inputs.SOS, axis=0)\n",
        "df_inputs_SOS = df_inputs_SOS.add_suffix('*SOS')\n",
        "df_inputs_SOS_Rank = df_inputs.mul(df_inputs.SOS_Rank, axis=0)\n",
        "df_inputs_SOS_Rank = df_inputs_SOS_Rank.add_suffix('*SOS_Rank')"
      ]
    },
    {
      "cell_type": "code",
      "execution_count": null,
      "metadata": {
        "id": "SYGOVv3c3Qh8"
      },
      "outputs": [],
      "source": [
        "df_inputs = pd.concat([df_inputs, df_inputs_SOS, df_inputs_SOS_Rank], axis=1)"
      ]
    },
    {
      "cell_type": "markdown",
      "metadata": {
        "id": "k4QbyjhZi-0Z"
      },
      "source": [
        "# **Inputs**"
      ]
    },
    {
      "cell_type": "code",
      "execution_count": null,
      "metadata": {
        "id": "UhxkZpeNTZA7",
        "collapsed": true
      },
      "outputs": [],
      "source": [
        "!pip install imbalanced-learn\n",
        "from sklearn.datasets import make_swiss_roll\n",
        "from sklearn.manifold import LocallyLinearEmbedding\n",
        "from sklearn.linear_model import LassoCV\n",
        "from joblib import Parallel, delayed\n",
        "from imblearn.under_sampling import RandomUnderSampler #Import undersampling method\n",
        "from sklearn.metrics import classification_report\n",
        "from imblearn.over_sampling import SMOTE  #Import oversampling method\n",
        "from imblearn.pipeline import Pipeline"
      ]
    },
    {
      "cell_type": "code",
      "source": [
        "def sampling(X,y):\n",
        "    over = SMOTE(sampling_strategy=0.5)  # Oversample minority class to 50% of majority class\n",
        "    under = RandomUnderSampler(sampling_strategy=1)  # Undersample majority class to make it even\n",
        "    # Combine oversampling and undersampling in a pipeline\n",
        "    pipeline = Pipeline(steps=[('over', over), ('under', under)])\n",
        "    # Apply the pipeline to the training data\n",
        "    X_train_sampled, y_train_sampled = pipeline.fit_resample(X, y)\n",
        "    return X_train_sampled, y_train_sampled"
      ],
      "metadata": {
        "id": "j1bHKtR6GT13"
      },
      "execution_count": null,
      "outputs": []
    },
    {
      "cell_type": "code",
      "execution_count": null,
      "metadata": {
        "id": "Z0RXs3FQMoHz"
      },
      "outputs": [],
      "source": [
        "def get_inputs(data_frame, y, scaler_choice, thresh):\n",
        "#Feature Importance:\n",
        "  if scaler_choice == \"MinMax\":\n",
        "    scaler = MinMaxScaler()\n",
        "  else:\n",
        "    scaler = StandardScaler()\n",
        "\n",
        "  data_scaled_train, data_scaled_test, y_train, y_test = train_test_split(data_frame, y, train_size =0.6, test_size =0.4, random_state =101)\n",
        "  train_scaled = pd.DataFrame(scaler.fit_transform(data_scaled_train), columns = data_frame.columns)\n",
        "  train_scaled_correlated, correlations_df = correlation(train_scaled, thresh, y_train) #\n",
        "  train_scaled_correlated = pd.DataFrame(train_scaled_correlated)\n",
        "  train_scaled_correlated = train_scaled_correlated.transpose() #Correlated inputs\n",
        "\n",
        "  data_scaled_test = pd.DataFrame(scaler.transform(data_scaled_test), columns = data_frame.columns)\n",
        "  test_scaled_correlated = data_scaled_test.loc[:, train_scaled_correlated.columns] #Test data with only correlated inputs\n",
        "\n",
        "  print(len(train_scaled_correlated.columns))\n",
        "\n",
        "  return train_scaled_correlated, test_scaled_correlated, scaler, y_train, y_test, correlations_df"
      ]
    },
    {
      "cell_type": "code",
      "execution_count": null,
      "metadata": {
        "id": "dZJCNs4vc_FN"
      },
      "outputs": [],
      "source": [
        "def reduce_df(X_tr, X_te, y_tr, reduction_choice):\n",
        "  pca=PCA(n_components = 850, random_state=101) #n_components = None, 420\n",
        "  lle = LocallyLinearEmbedding(n_components=850, n_neighbors=5, random_state=101) #n_components=2 is default, 850\n",
        "\n",
        "  if reduction_choice == \"PCA\":\n",
        "    X_tr_PCA = pca.fit_transform(X_tr)\n",
        "    X_tr_PCA = pd.DataFrame(X_tr_PCA)\n",
        "    X_te_PCA = pca.transform(X_te)\n",
        "    X_te_PCA = pd.DataFrame(X_te_PCA)\n",
        "    X_tr_PCA, y_tr = sampling(X_tr_PCA, y_tr)\n",
        "    #print(\"Principal axes:\\n\", pca.components_.tolist())\n",
        "    #print(\"Explained variance:\\n\", pca.explained_variance_.tolist())\n",
        "    print(\"Mean:\", pca.mean_)\n",
        "    return X_tr_PCA, X_te_PCA, pca, y_tr\n",
        "\n",
        "  else:\n",
        "    X_unrolled_train = lle.fit_transform(X_tr)\n",
        "    X_tr_LLE = pd.DataFrame(X_unrolled_train)\n",
        "    X_unrolled_test = lle.transform(X_te)\n",
        "    X_te_LLE = pd.DataFrame(X_unrolled_test)\n",
        "    X_tr_LLE, y_tr = sampling(X_tr_LLE, y_tr)\n",
        "    return X_tr_LLE, X_te_LLE, lle, y_tr"
      ]
    },
    {
      "cell_type": "code",
      "source": [
        "# Step 1: Compute the correlation matrix in parallel\n",
        "def corr_matrix_reduce(x_train, x_test, y_train):\n",
        "  def compute_corr_row(i, data):\n",
        "      return [data.iloc[:, i].corr(data.iloc[:, j]) for j in range(data.shape[1])]\n",
        "\n",
        "  correlation_matrix = Parallel(n_jobs=-1)(\n",
        "      delayed(compute_corr_row)(i, x_train) for i in range(x_train.shape[1])\n",
        "  )\n",
        "\n",
        "  correlation_matrix = pd.DataFrame(correlation_matrix, columns=x_train.columns, index=x_train.columns)\n",
        "\n",
        "  # Step 2: Reduce features based on correlation threshold\n",
        "  def reduce_features(corr_matrix, threshold=0.9):\n",
        "    #Reduce features by removing one feature from any pair with a correlation above the threshold.\n",
        "      to_drop = set()\n",
        "      for i in range(corr_matrix.shape[0]):\n",
        "          for j in range(i + 1, corr_matrix.shape[1]):\n",
        "              if abs(corr_matrix.iloc[i, j]) > threshold:\n",
        "                  # Add the second feature to the drop list\n",
        "                  to_drop.add(corr_matrix.columns[j])\n",
        "      return to_drop\n",
        "\n",
        "  threshold = 0.9\n",
        "  features_to_drop = reduce_features(correlation_matrix, threshold)\n",
        "\n",
        "  # Drop the features from the original dataset\n",
        "  x_train_reduced = x_train.drop(columns=features_to_drop)\n",
        "  x_test_reduced = x_test.drop(columns=features_to_drop)\n",
        "\n",
        "  x_train_reduced, y_train = sampling(x_train_reduced, y_train)\n",
        "\n",
        "  # Step 3: Print results\n",
        "  print(\"Original features:\", x_train.shape[1])\n",
        "  print(\"Features to drop:\", len(features_to_drop))\n",
        "  print(\"Reduced features:\", x_train_reduced.shape[1])\n",
        "  return x_train_reduced, x_test_reduced, y_train"
      ],
      "metadata": {
        "id": "3P2CG29hBUfx"
      },
      "execution_count": null,
      "outputs": []
    },
    {
      "cell_type": "code",
      "execution_count": null,
      "metadata": {
        "colab": {
          "base_uri": "https://localhost:8080/"
        },
        "id": "qbjmYqmltRla",
        "outputId": "31c8384e-4f5a-4561-e4e9-9a7cf1a09a2a"
      },
      "outputs": [
        {
          "output_type": "stream",
          "name": "stderr",
          "text": [
            "/usr/local/lib/python3.10/dist-packages/numpy/lib/function_base.py:2897: RuntimeWarning: invalid value encountered in divide\n",
            "  c /= stddev[:, None]\n",
            "/usr/local/lib/python3.10/dist-packages/numpy/lib/function_base.py:2898: RuntimeWarning: invalid value encountered in divide\n",
            "  c /= stddev[None, :]\n"
          ]
        },
        {
          "output_type": "stream",
          "name": "stdout",
          "text": [
            "                      corrs\n",
            "yardsToGo         -0.301370\n",
            "weight.11*yardsTG -0.283078\n",
            "weight.18*yardsTG -0.282975\n",
            "weight.17*yardsTG -0.281069\n",
            "weight.6*yardsTG  -0.280286\n",
            "1082\n"
          ]
        }
      ],
      "source": [
        "X_train, X_test, scalerYG, Y_train, Y_test, correlations_df = get_inputs(df_inputs, got_first_down_reduced.values, \"\", 0.05)"
      ]
    },
    {
      "cell_type": "code",
      "source": [
        "X_train_reduced, X_test_reduced, Y_train_sampled = corr_matrix_reduce(X_train, X_test, Y_train)\n",
        "\n",
        "common_columns = list(set(X_train_reduced.columns).intersection(correlations_df.columns))\n",
        "X_train_with_corrs = pd.concat([X_train_reduced[common_columns], correlations_df[common_columns]])\n",
        "X_train_with_corrs = X_train_with_corrs.transpose()\n",
        "X_train_with_corrs = X_train_with_corrs.sort_values(by='corrs', ascending = False, key=abs)\n",
        "#drop least correlated variables\n",
        "X_train_with_corrs = X_train_with_corrs.drop(X_train_with_corrs.tail(123).index)\n",
        "#drop correlated column\n",
        "X_train_reduced2 = X_train_with_corrs.drop('corrs', axis = 1)\n",
        "X_train_reduced2 = X_train_reduced2.transpose()\n",
        "X_train_reduced2.reset_index(drop = True, inplace = True)\n",
        "X_test_reduced2 = X_test_reduced[X_train_reduced2.columns]"
      ],
      "metadata": {
        "id": "_jJRVJNeCUDT"
      },
      "execution_count": null,
      "outputs": []
    },
    {
      "cell_type": "code",
      "execution_count": null,
      "metadata": {
        "colab": {
          "base_uri": "https://localhost:8080/"
        },
        "id": "Tlvr_HJOek9-",
        "outputId": "26c3cb95-4249-497b-8bab-a938beafb6bb"
      },
      "outputs": [
        {
          "output_type": "stream",
          "name": "stdout",
          "text": [
            "Mean: [-5.51778030e-16 -1.38252773e-16  8.47459302e-17 ... -4.74095238e-17\n",
            "  2.65553345e-17  1.42528632e-17]\n"
          ]
        }
      ],
      "source": [
        "X_train_PCA, X_test_PCA, pca_transformer, Y_train_PCA = reduce_df(X_train, X_test, Y_train, \"PCA\")"
      ]
    },
    {
      "cell_type": "code",
      "execution_count": null,
      "metadata": {
        "id": "QbOYrdGFe5P6"
      },
      "outputs": [],
      "source": [
        "X_train_LLE, X_test_LLE, LLE_transformer, Y_train_LLE = reduce_df(X_train, X_test, Y_train, \"\")"
      ]
    },
    {
      "cell_type": "code",
      "source": [
        "X_train_MMS, X_test_MMS, scalerYG_MMS, Y_train_MMS, Y_test_MMS, correlations_df_MMS = get_inputs(df_inputs, got_first_down_reduced.values, \"MinMax\", 0.05) #MinMax,"
      ],
      "metadata": {
        "id": "ojS_rEDfBZZN"
      },
      "execution_count": null,
      "outputs": []
    },
    {
      "cell_type": "code",
      "source": [
        "X_train_reduced, X_test_reduced, Y_train_sampled_MMS = corr_matrix_reduce(X_train_MMS, X_test_MMS, Y_train_MMS)"
      ],
      "metadata": {
        "id": "o69yWKIeCqtd"
      },
      "execution_count": null,
      "outputs": []
    },
    {
      "cell_type": "code",
      "execution_count": null,
      "metadata": {
        "id": "eSh6-bvaQhFp"
      },
      "outputs": [],
      "source": [
        "X_train_PCA_MMS, X_test_PCA_MMS, pca_transformer_MMS, Y_train_PCA_MMS = reduce_df(X_train_MMS, X_test_MMS, Y_train_MMS, \"PCA\")"
      ]
    },
    {
      "cell_type": "code",
      "source": [
        "X_train_LLE_MMS, X_test_LLE_MMS, LLE_transformer_MMS, Y_train_LLE_MMS = reduce_df(X_train_MMS, X_test_MMS, Y_train_MMS, \"\")"
      ],
      "metadata": {
        "id": "PU1Yf2xUbCHx",
        "collapsed": true
      },
      "execution_count": null,
      "outputs": []
    },
    {
      "cell_type": "markdown",
      "metadata": {
        "id": "ge60QIT4_Mk6"
      },
      "source": [
        "# **Models**"
      ]
    },
    {
      "cell_type": "code",
      "source": [
        "from sklearn.metrics import confusion_matrix, accuracy_score\n",
        "from sklearn.model_selection import train_test_split, cross_val_score\n",
        "!pip install optuna\n",
        "import optuna\n",
        "from sklearn.linear_model import LogisticRegression\n",
        "from sklearn.ensemble import RandomForestClassifier\n",
        "!pip install xgboost\n",
        "import xgboost as xgb"
      ],
      "metadata": {
        "id": "nuoznsciMcUq",
        "collapsed": true
      },
      "execution_count": null,
      "outputs": []
    },
    {
      "cell_type": "markdown",
      "metadata": {
        "id": "HP9ocTS2XvRj"
      },
      "source": [
        "**Logistic Regression:**"
      ]
    },
    {
      "cell_type": "code",
      "source": [
        "LR = LogisticRegression(random_state = 101)\n",
        "LR.fit(X_train_reduced2, Y_train_sampled)\n",
        "Y_train_pred = LR.predict(X_train_reduced2)\n",
        "Y_test_pred = LR.predict(X_test_reduced2)\n",
        "\n",
        "print(classification_report(Y_train_sampled, Y_train_pred))\n",
        "cm = confusion_matrix(Y_train_sampled, Y_train_pred)\n",
        "sns.heatmap(cm, annot=True,fmt='d',cbar=False)"
      ],
      "metadata": {
        "id": "xUqIpQW5mHuI"
      },
      "execution_count": null,
      "outputs": []
    },
    {
      "cell_type": "code",
      "source": [
        "print(\"Test Results:\")\n",
        "print(classification_report(Y_test, Y_test_pred))\n",
        "cm = confusion_matrix(Y_test, Y_test_pred)\n",
        "sns.heatmap(cm, annot=True,fmt='d',cbar=False)"
      ],
      "metadata": {
        "id": "G01-5Nr3jDbM"
      },
      "execution_count": null,
      "outputs": []
    },
    {
      "cell_type": "markdown",
      "source": [
        "**Random Forest Classifier:**"
      ],
      "metadata": {
        "id": "o2MP5Gj8wOWG"
      }
    },
    {
      "cell_type": "code",
      "source": [
        "RF = RandomForestClassifier(random_state = 101)\n",
        "RF.fit(X_train_reduced2, Y_train_sampled)\n",
        "Y_train_pred = RF.predict(X_train_reduced2)\n",
        "Y_test_pred = RF.predict(X_test_reduced2)\n",
        "\n",
        "print(classification_report(Y_train_sampled, Y_train_pred))\n",
        "cm = confusion_matrix(Y_train_sampled, Y_train_pred)\n",
        "sns.heatmap(cm, annot=True,fmt='d',cbar=False)"
      ],
      "metadata": {
        "collapsed": true,
        "id": "WT5IRVK5wEFI"
      },
      "execution_count": null,
      "outputs": []
    },
    {
      "cell_type": "code",
      "source": [
        "print(\"Test Results:\")\n",
        "print(classification_report(Y_test, Y_test_pred))\n",
        "cm = confusion_matrix(Y_test, Y_test_pred)\n",
        "sns.heatmap(cm, annot=True,fmt='d',cbar=False)"
      ],
      "metadata": {
        "id": "UVEAu_Wgjdpj"
      },
      "execution_count": null,
      "outputs": []
    },
    {
      "cell_type": "markdown",
      "source": [
        "**XG Boost Classifier:**"
      ],
      "metadata": {
        "id": "52LH_UN0wp6f"
      }
    },
    {
      "cell_type": "code",
      "source": [
        "XG = xgb.XGBClassifier(random_state = 101)\n",
        "XG.fit(X_train_reduced2, Y_train_sampled)\n",
        "Y_train_pred = XG.predict(X_train_reduced2)\n",
        "Y_test_pred = XG.predict(X_test_reduced2)\n",
        "\n",
        "print(classification_report(Y_train_sampled, Y_train_pred))\n",
        "cm = confusion_matrix(Y_train_sampled, Y_train_pred)\n",
        "sns.heatmap(cm, annot=True,fmt='d',cbar=False)"
      ],
      "metadata": {
        "collapsed": true,
        "id": "CZwZQDUQwMcF"
      },
      "execution_count": null,
      "outputs": []
    },
    {
      "cell_type": "code",
      "source": [
        "print(\"Test Results:\")\n",
        "print(classification_report(Y_test, Y_test_pred))\n",
        "cm = confusion_matrix(Y_test, Y_test_pred)\n",
        "sns.heatmap(cm, annot=True,fmt='d',cbar=False)"
      ],
      "metadata": {
        "id": "6GP3PSpaju00"
      },
      "execution_count": null,
      "outputs": []
    },
    {
      "cell_type": "markdown",
      "source": [
        "**Tune Logistic:**"
      ],
      "metadata": {
        "id": "RYs37ZTpxWGc"
      }
    },
    {
      "cell_type": "code",
      "execution_count": null,
      "metadata": {
        "id": "TI1-SauNXXzB",
        "collapsed": true
      },
      "outputs": [],
      "source": [
        "def objective(trial):\n",
        "    C = trial.suggest_float(\"C\", 1e-5, 100, log = True)\n",
        "    penalty = trial.suggest_categorical(\"penalty\", [\"l2\", 'l1', 'elasticnet'])\n",
        "    solver = trial.suggest_categorical(\"solver\", [\"liblinear\", \"lbfgs\", \"saga\"])  # Optimizer to use\n",
        "\n",
        "    # Elastic Net requires l1_ratio\n",
        "    if penalty == 'elasticnet':\n",
        "        l1_ratio = trial.suggest_float('l1_ratio', 0.0, 1.0)\n",
        "    else:\n",
        "        l1_ratio=None\n",
        "\n",
        "    if solver in ['lbfgs', 'liblinear'] and penalty in ['l1', 'elasticnet']:\n",
        "        return float('inf') # Handle unsupported combinations\n",
        "\n",
        "    model = LogisticRegression(\n",
        "        C=C,\n",
        "        penalty=penalty,\n",
        "        solver=solver,\n",
        "        l1_ratio=l1_ratio,\n",
        "        max_iter=10000,\n",
        "        random_state=101\n",
        "    )\n",
        "\n",
        "    # Evaluate the model using cross-validation\n",
        "    score = cross_val_score(model, X_train_PCA, Y_train_PCA, cv=3, scoring=\"accuracy\").mean()\n",
        "    return 1 - score\n",
        "\n",
        "study = optuna.create_study(direction=\"minimize\")\n",
        "study.optimize(objective, n_trials=15)\n",
        "\n",
        "print(\"Best Hyperparameters:\", study.best_params)\n",
        "best_params = study.best_params\n",
        "\n",
        "best_lr = LogisticRegression(\n",
        "    C=best_params['C'],\n",
        "    penalty=best_params['penalty'],\n",
        "    solver=best_params['solver'],\n",
        "    l1_ratio=best_params.get('l1_ratio', None),\n",
        "    max_iter=10000,\n",
        "    random_state=101\n",
        ")\n",
        "\n",
        "best_lr.fit(X_train_PCA, Y_train_PCA)\n",
        "\n",
        "Y_train_pred = best_lr.predict(X_train_PCA)\n",
        "Y_test_pred = best_lr.predict(X_test_PCA)\n",
        "\n",
        "print(classification_report(Y_train_PCA, Y_train_pred))\n",
        "cm = confusion_matrix(Y_train_PCA, Y_train_pred)\n",
        "sns.heatmap(cm, annot=True,fmt='d',cbar=False)"
      ]
    },
    {
      "cell_type": "code",
      "source": [
        "best_lr = LogisticRegression(\n",
        "    C=8.573575842336647e-05,\n",
        "    penalty = 'l2',\n",
        "    solver='saga',\n",
        "    l1_ratio=None,\n",
        "    max_iter=10000,\n",
        "    random_state=101\n",
        ")\n",
        "\n",
        "best_lr.fit(X_train_PCA, Y_train_PCA)\n",
        "\n",
        "Y_train_pred = best_lr.predict(X_train_PCA)\n",
        "Y_test_pred = best_lr.predict(X_test_PCA)\n",
        "\n",
        "print(classification_report(Y_train_PCA, Y_train_pred))\n",
        "cm = confusion_matrix(Y_train_PCA, Y_train_pred)\n",
        "sns.heatmap(cm, annot=True,fmt='d',cbar=False)"
      ],
      "metadata": {
        "id": "fQKkok6MXEED",
        "colab": {
          "base_uri": "https://localhost:8080/",
          "height": 616
        },
        "outputId": "62db8ed2-cf12-4eed-efcb-9795c7ae8a75"
      },
      "execution_count": null,
      "outputs": [
        {
          "output_type": "stream",
          "name": "stdout",
          "text": [
            "              precision    recall  f1-score   support\n",
            "\n",
            "           0       0.64      0.74      0.69      2114\n",
            "           1       0.69      0.59      0.64      2114\n",
            "\n",
            "    accuracy                           0.66      4228\n",
            "   macro avg       0.67      0.66      0.66      4228\n",
            "weighted avg       0.67      0.66      0.66      4228\n",
            "\n"
          ]
        },
        {
          "output_type": "execute_result",
          "data": {
            "text/plain": [
              "<Axes: >"
            ]
          },
          "metadata": {},
          "execution_count": 64
        },
        {
          "output_type": "display_data",
          "data": {
            "text/plain": [
              "<Figure size 640x480 with 1 Axes>"
            ],
            "image/png": "[encoded data removed]"
          },
          "metadata": {}
        }
      ]
    },
    {
      "cell_type": "code",
      "source": [
        "print(\"Test Results:\")\n",
        "print(classification_report(Y_test, Y_test_pred))\n",
        "cm = confusion_matrix(Y_test, Y_test_pred)\n",
        "sns.heatmap(cm, annot=True,fmt='d',cbar=False) #69%, .05, PCA - 850, 59% of 1's correct: Best Hyperparameters: {'C': 1.4542761129216339e-05, 'penalty': 'l2', 'solver': 'lbfgs'}"
      ],
      "metadata": {
        "colab": {
          "base_uri": "https://localhost:8080/",
          "height": 635
        },
        "collapsed": true,
        "id": "e3JmDZpMkI6I",
        "outputId": "91863371-4ab9-422f-a0a9-931f41be1ce8"
      },
      "execution_count": null,
      "outputs": [
        {
          "output_type": "stream",
          "name": "stdout",
          "text": [
            "Test Results:\n",
            "              precision    recall  f1-score   support\n",
            "\n",
            "           0       0.81      0.73      0.77      2764\n",
            "           1       0.48      0.59      0.53      1184\n",
            "\n",
            "    accuracy                           0.69      3948\n",
            "   macro avg       0.65      0.66      0.65      3948\n",
            "weighted avg       0.71      0.69      0.70      3948\n",
            "\n"
          ]
        },
        {
          "output_type": "execute_result",
          "data": {
            "text/plain": [
              "<Axes: >"
            ]
          },
          "metadata": {},
          "execution_count": 67
        },
        {
          "output_type": "display_data",
          "data": {
            "text/plain": [
              "<Figure size 640x480 with 1 Axes>"
            ],
            "image/png": "[encoded data removed]"
          },
          "metadata": {}
        }
      ]
    },
    {
      "cell_type": "code",
      "source": [
        "from sklearn.metrics import roc_curve, auc, precision_recall_curve\n",
        "plt.title('Receiver Operating Characteristic')\n",
        "fpr, tpr, thresholds = roc_curve(Y_test, Y_test_pred)\n",
        "roc_auc = auc(fpr, tpr)\n",
        "plt.plot(fpr, tpr, 'b', label = 'AUC = %0.2f' % roc_auc)\n",
        "plt.legend(loc = 'lower right')\n",
        "plt.plot([0, 1], [0, 1],'r--')\n",
        "plt.xlim([0, 1])\n",
        "plt.ylim([0, 1])\n",
        "plt.ylabel('True Positive Rate')\n",
        "plt.xlabel('False Positive Rate');\n",
        "print(plt.style.available)\n",
        "plt.style.use('classic')"
      ],
      "metadata": {
        "colab": {
          "base_uri": "https://localhost:8080/",
          "height": 508
        },
        "id": "QbD-DTwwdeU3",
        "outputId": "5c70428b-5af3-4773-e8a7-a7f2ebf89af0"
      },
      "execution_count": null,
      "outputs": [
        {
          "output_type": "stream",
          "name": "stdout",
          "text": [
            "['Solarize_Light2', '_classic_test_patch', '_mpl-gallery', '_mpl-gallery-nogrid', 'bmh', 'classic', 'dark_background', 'fast', 'fivethirtyeight', 'ggplot', 'grayscale', 'seaborn-v0_8', 'seaborn-v0_8-bright', 'seaborn-v0_8-colorblind', 'seaborn-v0_8-dark', 'seaborn-v0_8-dark-palette', 'seaborn-v0_8-darkgrid', 'seaborn-v0_8-deep', 'seaborn-v0_8-muted', 'seaborn-v0_8-notebook', 'seaborn-v0_8-paper', 'seaborn-v0_8-pastel', 'seaborn-v0_8-poster', 'seaborn-v0_8-talk', 'seaborn-v0_8-ticks', 'seaborn-v0_8-white', 'seaborn-v0_8-whitegrid', 'tableau-colorblind10']\n"
          ]
        },
        {
          "output_type": "display_data",
          "data": {
            "text/plain": [
              "<Figure size 640x480 with 1 Axes>"
            ],
            "image/png": "[encoded data removed]"
          },
          "metadata": {}
        }
      ]
    },
    {
      "cell_type": "markdown",
      "source": [
        "**Tune RFC:**"
      ],
      "metadata": {
        "id": "TH7YUeErkaAU"
      }
    },
    {
      "cell_type": "code",
      "execution_count": null,
      "metadata": {
        "id": "SnSKdL4RSlo8",
        "collapsed": true
      },
      "outputs": [],
      "source": [
        "def objective(trial):\n",
        "    n_estimators = trial.suggest_int(\"n_estimators\", 100, 1000)\n",
        "    max_depth = trial.suggest_int(\"max_depth\", 2, 32, log=True)\n",
        "    min_samples_split = trial.suggest_int(\"min_samples_split\", 2, 20)\n",
        "    min_samples_leaf = trial.suggest_int(\"min_samples_leaf\", 1, 10)\n",
        "    max_features = trial.suggest_categorical(\"max_features\", [\"sqrt\", \"log2\"])\n",
        "\n",
        "    rf = RandomForestClassifier(n_estimators=n_estimators, max_depth=max_depth,\n",
        "      min_samples_split=min_samples_split, min_samples_leaf=min_samples_leaf,\n",
        "      max_features=max_features,random_state=101, n_jobs=-1)\n",
        "\n",
        "    score = cross_val_score(rf, X_train_PCA, Y_train_PCA, cv=3, scoring=\"accuracy\").mean()\n",
        "    return score\n",
        "\n",
        "study = optuna.create_study(direction=\"maximize\")\n",
        "study.optimize(objective, n_trials=10)\n",
        "\n",
        "print(\"Best Parameters:\", study.best_params)\n",
        "print(\"Best Score:\", study.best_value)\n",
        "\n",
        "best_params = study.best_params\n",
        "\n",
        "best_rf = RandomForestClassifier(n_estimators=best_params['n_estimators'], max_depth=best_params['max_depth'],\n",
        "    min_samples_split=best_params['min_samples_split'], min_samples_leaf=best_params['min_samples_leaf'],\n",
        "                                 random_state=101)\n",
        "\n",
        "best_rf.fit(X_train_PCA, Y_train_PCA)\n",
        "\n",
        "Y_test_pred = best_rf.predict(X_test_PCA)\n",
        "Y_train_pred = best_rf.predict(X_train_PCA)\n",
        "\n",
        "print(classification_report(Y_train_PCA, Y_train_pred))\n",
        "cm = confusion_matrix(Y_train_PCA, Y_train_pred)\n",
        "sns.heatmap(cm, annot=True,fmt='d',cbar=False)"
      ]
    },
    {
      "cell_type": "code",
      "source": [
        "print(\"Test Results:\")\n",
        "print(classification_report(Y_test, Y_test_pred))\n",
        "cm = confusion_matrix(Y_test, Y_test_pred)\n",
        "sns.heatmap(cm, annot=True,fmt='d',cbar=False)"
      ],
      "metadata": {
        "id": "3bo0McSwkUaA"
      },
      "execution_count": null,
      "outputs": []
    },
    {
      "cell_type": "markdown",
      "source": [
        "**Tune XGB:**"
      ],
      "metadata": {
        "id": "koAJV1FdkcHs"
      }
    },
    {
      "cell_type": "code",
      "execution_count": null,
      "metadata": {
        "id": "V-wi3Ch-WBEi"
      },
      "outputs": [],
      "source": [
        "def objective(trial):\n",
        "    n_estimators = trial.suggest_int(\"n_estimators\", 50, 500)\n",
        "    max_depth = trial.suggest_int(\"max_depth\", 3, 12)\n",
        "    learning_rate = trial.suggest_float(\"learning_rate\", 1e-5, 0.3, log = True)\n",
        "    subsample = trial.suggest_float(\"subsample\", 0.5, 1.0)\n",
        "    #colsample_bytree = trial.suggest_float(\"colsample_bytree\", 0.5, 1.0)\n",
        "    #gamma = trial.suggest_float(\"gamma\", 1e-5, 10.0, log = True))\n",
        "    #reg_alpha = trial.suggest_float(\"reg_alpha\", 1e-5, 10.0, log = True))\n",
        "    #reg_lambda = trial.suggest_float(\"reg_lambda\", 1e-5, 10.0, log = True))\n",
        "\n",
        "    model = xgb.XGBClassifier(n_estimators=n_estimators, max_depth=max_depth, learning_rate=learning_rate,\n",
        "        subsample=subsample,\n",
        "        random_state=101, use_label_encoder=False, eval_metric=\"logloss\")\n",
        "\n",
        "    score = cross_val_score(model, X_train_PCA, Y_train_PCA, cv=3, scoring=\"accuracy\").mean()\n",
        "    return score\n",
        "\n",
        "study = optuna.create_study(direction=\"maximize\")\n",
        "study.optimize(objective, n_trials=10)\n",
        "\n",
        "print(\"Best Hyperparameters:\", study.best_params)\n",
        "best_params = study.best_params\n",
        "\n",
        "best_xgb = xgb.XGBClassifier(\n",
        "    n_estimators=best_params['n_estimators'], max_depth=best_params['max_depth'],\n",
        "    learning_rate=best_params['learning_rate'], subsample=best_params['subsample'],\n",
        "    random_state=101, use_label_encoder=False, eval_metric=\"logloss\"\n",
        ")\n",
        "\n",
        "best_xgb.fit(X_train_PCA, Y_train_PCA)\n",
        "\n",
        "Y_train_pred = best_xgb.predict(X_train_PCA)\n",
        "Y_test_pred = best_xgb.predict(X_test_PCA)\n",
        "\n",
        "print(classification_report(Y_train_PCA, Y_train_pred))\n",
        "cm = confusion_matrix(Y_train_PCA, Y_train_pred)\n",
        "sns.heatmap(cm, annot=True,fmt='d',cbar=False)"
      ]
    },
    {
      "cell_type": "code",
      "source": [
        "print(\"Test Results:\")\n",
        "print(classification_report(Y_test, Y_test_pred))\n",
        "cm = confusion_matrix(Y_test, Y_test_pred)\n",
        "sns.heatmap(cm, annot=True,fmt='d',cbar=False)"
      ],
      "metadata": {
        "id": "ZUoQvH0zkjVX"
      },
      "execution_count": null,
      "outputs": []
    }
  ],
  "metadata": {
    "colab": {
      "collapsed_sections": [
        "uWYA16qgrteg",
        "xUWKSMy6X6mZ",
        "EWbBr2COp7Ul"
      ],
      "provenance": [],
      "gpuType": "V28",
      "authorship_tag": "ABX9TyN7B0T/08hvdekRxLDpyxa7",
      "include_colab_link": true
    },
    "kernelspec": {
      "display_name": "Python 3",
      "name": "python3"
    },
    "language_info": {
      "name": "python"
    },
    "accelerator": "TPU"
  },
  "nbformat": 4,
  "nbformat_minor": 0
}